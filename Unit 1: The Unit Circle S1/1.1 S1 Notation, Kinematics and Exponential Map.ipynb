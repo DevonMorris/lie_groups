{
 "cells": [
  {
   "cell_type": "markdown",
   "metadata": {},
   "source": [
    "# Chapter 1.1.  The Unit Circle $S^1$ Notation, Kinematics and Exponential Map\n",
    "\n",
    "** Contributors: Randal W. Beard **\n",
    "\n",
    "### Table Of Contents\n",
    "1. [Definitions and Notation](## Definitions-and-Notation)\n",
    "1. [Kinematics](## Kinematics)\n",
    "1. [Exponential and Logarithmic Maps](## Exponential-and-Logarithmic-Maps)"
   ]
  },
  {
   "cell_type": "markdown",
   "metadata": {},
   "source": [
    "## Definitions and Notation"
   ]
  },
  {
   "cell_type": "markdown",
   "metadata": {},
   "source": [
    "We begin the study of Lie Groups and Lie Algebras by studying differential equations defined on the unit circle in $\\mathbb{R}^2$.  Note that the unit circle in $\\mathbb{R}^2$ is a one dimensional manifold embedded in the two dimensional Euclidean space $\\mathbb{R}^2$. Two spaces are said to be isomorphic if there is a differentiable one-to-one mapping between elements in each space.  Note that $\\mathbb{R}^2$ is isomorphic to the complex plane $\\mathbb{C}$ by equating the $x$-axis with the real line and the $y$-axis with the imaginary line.  In $\\mathbb{R}^2$ the unit circle is given by $S^1 = \\{ (x_1, x_2)\\in\\mathbb{R}^2: x_1^2+x_2^2=1\\}$.  In the complex plane, the unit circle is the set $S^1 = \\{z\\in\\mathbb{C}: |z|=1\\}$.  Since any complex number $z\\in\\mathbb{C}$ can be written in rectangular form as $z=a+jb$ and in polar form as $z=me^{j\\theta}=m\\cos\\theta +jm\\sin\\theta$, the unit circle can be alternatively represented as $S^1 = \\{e^{j\\theta}\\in\\mathbb{C}: \\theta\\in(-\\pi, pi]\\}$."
   ]
  },
  {
   "cell_type": "markdown",
   "metadata": {},
   "source": [
    "Define the set of 2x2 matrices $\\mathcal{M} = \\left\\{\\begin{pmatrix} a & -b \\\\ b & a\\end{pmatrix}: a,b \\in \\mathbb{R} \\right\\}\\subset \\mathbb{R}^{2\\times 2}$.  It is clear that the complex plane $\\mathbb{C}$ is isomorphic to $\\mathcal{M}$ since for every complex number $z=a+jb$ there is unique element in $\\mathcal{M}$, and visa versa.  It turns out that multiplying complex numbers is equivalent to matrix multiplication over $\\mathcal{M}$. As can be seen from simple algebra:\n",
    "\\begin{align*}\n",
    "(a+jb)(c+jd) &= (ac-bd) + j(bc+ad) \\\\\n",
    "\\begin{pmatrix} a & -b \\\\ b & a \\end{pmatrix} \\begin{pmatrix} c & -d \\\\ d & c \\end{pmatrix} &= \\begin{pmatrix} ac-bd & -(bc+ad) \\\\ (bc+ad) & ac-bd \\end{pmatrix}\n",
    "\\end{align*}\n",
    "\n",
    "In fact, define $I=\\begin{pmatrix} 1 & 0 \\\\ 0 & 1 \\end{pmatrix}\\subset\\mathcal{M}$ and $J=\\begin{pmatrix} 0 & -1 \\\\ 1 & 0 \\end{pmatrix}\\subset\\mathcal{M}$ and note that $I^2=I$, $IJ=JI=J$ and $J^2=-I$.  Therefore $I$ acts like the complex number $1$, and $J$ acts like the complex number $j=\\sqrt{-1}$.  Any element of $\\mathcal{M}$ can be written as $aI+bJ$ in the same way that any element of the complex plane $\\mathbb{C}$ can be written as $a+jb$.\n"
   ]
  },
  {
   "cell_type": "markdown",
   "metadata": {},
   "source": [
    "The unit circle embedded in the complex plane is given by the set $S^1=\\{ z\\in\\mathbb{C}: |z|=1\\}$.  Similarly, the unit circle embedded in the set of $2\\times 2$ matrices $\\mathbb{R}^{2\\times 2}$ is given by $S^1=\\{G\\in\\mathcal{M}: \\det{G}=1\\}$.  \n",
    "\n",
    "For example, the point $x=(1/\\sqrt{2}, 1/\\sqrt{2})^\\top$ represent a point on the unit circle in $\\mathbb{R}^2$ that is equivalent to the representation $z=e^{j\\frac{\\pi}{4}}$ in $\\mathbb{C}$, that is equivalent to the representation $G=\\begin{pmatrix}\\frac{1}{\\sqrt{2}}& -\\frac{1}{\\sqrt{2}} \\\\ \\frac{1}{\\sqrt{2}} & \\frac{1}{\\sqrt{2}}\\end{pmatrix}$ in $\\mathbb{R}^{2\\times 2}$.\n",
    "\n",
    "Therefore, we can talk of embeddings \n",
    "\\begin{align*}\n",
    "\\pi_1: S^1 &\\rightarrow \\mathbb{R}^2, \\\\\n",
    "\\pi_2: S^1 &\\rightarrow \\mathbb{C}, \\\\\n",
    "\\pi_3: S^1 &\\rightarrow \\mathbb{R}^{2\\times 2}.\n",
    "\\end{align*}\n"
   ]
  },
  {
   "cell_type": "markdown",
   "metadata": {},
   "source": [
    "A matrix $R$ is said to be orthgonal if $R^\\top R = RR^\\top = I$.  The set of $2\\times 2$ orthogonal matrices is denoted $O(2)$.  Orthogonal matries can have determinant equal to $\\pm 1$.  The set of orthogonal matrices with determinant equal to 1 is denoted $SO(2)$ and is the called the special orthogonal group.  It is fairly straight forward to show that $SO(2)=\\{G\\in\\mathcal{M}: det(G)=1\\}$ and is therefore isomorphic to $S^1$."
   ]
  },
  {
   "cell_type": "markdown",
   "metadata": {},
   "source": [
    "The following code establishes a class for $S^1$.  We will use matrices in $\\mathbb{R}^{2\\times 2}$ as the native representation for elements of $S^1$ and provide functions that convert between the representations.  Since $S^1$ is isomorphic to $SO(2)$ and since we will generalize $SO(3)$ later, the discussion that follows will focus on $SO(2)$."
   ]
  },
  {
   "cell_type": "code",
   "execution_count": 3,
   "metadata": {},
   "outputs": [],
   "source": [
    "%matplotlib inline\n",
    "import random\n",
    "\n",
    "import numpy as np\n",
    "import matplotlib.pyplot as plt\n",
    "\n",
    "class lie_group_SO2:\n",
    "    # this class will be used to define operations on SO2\n",
    "    def __init__(self, G=np.eye(2)):\n",
    "        self.mat = G\n",
    "    \n",
    "    # generate a random element in SO2\n",
    "    def gen_random_element(self):\n",
    "        th = random.uniform(-np.pi, np.pi)\n",
    "        self.mat = np.array([[np.cos(th), -np.sin(th)], [np.sin(th), np.cos(th)]])\n",
    "    \n",
    "    # functions that convert between representations\n",
    "    def vector(self):\n",
    "        return self.mat[:,0]\n",
    "\n",
    "    def complex(self):\n",
    "        return self.mat[0,0] + self.mat[1,0]*1j   \n",
    "    \n",
    "    def magPhase(self):\n",
    "        mag = np.sqrt(self.mat[0,0]**2 + self.mat[1,0]**2)\n",
    "        phase = np.arctan2(self.mat[1,0], self.mat[0,0])\n",
    "        return mag, phase\n",
    "    "
   ]
  },
  {
   "cell_type": "markdown",
   "metadata": {},
   "source": [
    "The following code tests these functions."
   ]
  },
  {
   "cell_type": "code",
   "execution_count": 4,
   "metadata": {},
   "outputs": [
    {
     "name": "stdout",
     "output_type": "stream",
     "text": [
      "('G=', array([[-0.065068  ,  0.99788083],\n",
      "       [-0.99788083, -0.065068  ]]))\n",
      "('x=', array([-0.065068  , -0.99788083]))\n",
      "('z=', (-0.06506800325394652-0.9978808320398506j))\n",
      "('mag = ', 1.0, ', phase = ', -10.278727764326412, 'deg')\n"
     ]
    }
   ],
   "source": [
    "G1 = lie_group_SO2()\n",
    "G1.gen_random_element()\n",
    "print('G=', G1.mat)\n",
    "x = G1.vector()\n",
    "print('x=', x)\n",
    "z = G1.complex()\n",
    "print('z=', z)\n",
    "mag, phase = G1.magPhase()\n",
    "print('mag = ', mag, ', phase = ', 2*np.pi*phase, 'deg')"
   ]
  },
  {
   "cell_type": "markdown",
   "metadata": {},
   "source": [
    "In mathematics, a group is defined as a set of objects $\\mathcal{G}$ that contains a unique element $I\\in\\mathcal{G}$ called the identity, and an operation $\\cdot$ such that \n",
    "*  $G_1, G_2 \\in \\mathcal{G}$ implies that $G_1\\cdot G_2 \\in \\mathcal{G}$,\n",
    "*  For every $G\\in\\mathcal{G}$ there exists and element $H\\in\\mathcal{G}$ such that $G\\cdot H = H\\cdot G = I$.  $H$ is called the inverse of $G$ and will be denoted as $G^{-1}$.\n",
    "\n",
    "The first item implies that $\\mathcal{G}$ is closed under the $\\cdot$ operation.  The second item implies that every element in $\\mathcal{G}$ has an inverse.\n",
    "\n",
    "For $S^1$, the $\\cdot$ operator is defined differently depending on the space into which it is embedded.  For example, in $\\mathbb{C}$, let $z_1=e^{j\\theta_1}$ and $z_2=e^{j\\theta^2}$, then clearly \n",
    "\\begin{equation}\n",
    "z = z_1 z_2 = e^{j\\theta_1} e^{j\\theta_2} = e^{j(\\theta_1+\\theta)}\n",
    "\\end{equation}\n",
    "is an element of $S^1$, and if $z=1+j0$ is the identity, then the inverse operator is simply the complex conjugate since\n",
    "\\begin{equation}\n",
    "z\\bar{z} = e^{j\\theta} e^{-j\\theta} = e^{j(\\theta-\\theta)} = e^{j0} = 1.\n",
    "\\end{equation}\n",
    "\n",
    "On the other hand, if $S^1$ is embedded in $\\mathbb{R}^{2\\times 2}$, and the identity is defined as the identity matrix, then the $\\cdot$ operator is simply matrix multiplication since\n",
    "\\begin{align*}\n",
    "G_1 G_2 &= \\begin{pmatrix} \\cos(\\theta_1) & -\\sin(\\theta_1) \\\\ \\sin(\\theta_1) & \\cos(\\theta_1) \\end{pmatrix}\n",
    "\\begin{pmatrix} \\cos(\\theta_2) & -\\sin(\\theta_2) \\\\ \\sin(\\theta_2) & \\cos(\\theta_2) \\end{pmatrix} \\\\\n",
    "&= \\begin{pmatrix} \\cos(\\theta_1)\\cos(\\theta_1)-\\sin(\\theta_1)\\sin(\\theta_2) & -\\cos(\\theta_1)\\sin(\\theta_2)-\\sin(\\theta_1)\\cos(\\theta_2) \\\\ \\cos(\\theta_1)\\sin(\\theta_2)+\\sin(\\theta_1)\\cos(\\theta_2) & \\cos(\\theta_1)\\cos(\\theta_1)-\\sin(\\theta_1)\\sin(\\theta_2) \\end{pmatrix} \\\\\n",
    "&= \\begin{pmatrix} \\cos(\\theta_1+\\theta_2) & -\\sin(\\theta_1+\\theta_2) \\\\ \\sin(\\theta_1+\\theta_2) & \\cos(\\theta_1+\\theta_2) \\end{pmatrix}\n",
    "\\end{align*}\n",
    "and the inverse of $G\\in\\mathcal{G}$ is given by the matrix inverse since $GG^{-1}=I$.  \n",
    "\n",
    "It should be clear that if $S^1$ is embedded in $\\mathbb{R}^2$ the $\\cdot$ and inverse operators are much more complex.  Since operations on the group $S^1$ can be carried out with matrix operations, the most convenient representation will be in $\\mathbb{R}^{2\\times 2}$.   (Actually, $\\mathbb{C}$ is convenient for $S^1$ but does not extend to other groups, whereas matrix operations will extend to other groups useful in robotics.)"
   ]
  },
  {
   "cell_type": "markdown",
   "metadata": {},
   "source": [
    "We can expand the python class to include an identity, the dot and the inverse operator."
   ]
  },
  {
   "cell_type": "code",
   "execution_count": 5,
   "metadata": {},
   "outputs": [],
   "source": [
    "class lie_group_SO2(lie_group_SO2):\n",
    "    \n",
    "    # compose (multiply) two elements in SO2\n",
    "    def dot(self, G1):\n",
    "        return np.dot(self.mat, G1)\n",
    "    \n",
    "    # return the identity element\n",
    "    def identity():\n",
    "        return np.eye(2)\n",
    "\n",
    "    # return the inverse of an element in SO(2)\n",
    "    def inverse(self):\n",
    "        return self.mat.T"
   ]
  },
  {
   "cell_type": "markdown",
   "metadata": {},
   "source": [
    "The following lines test the code."
   ]
  },
  {
   "cell_type": "code",
   "execution_count": 6,
   "metadata": {},
   "outputs": [
    {
     "name": "stdout",
     "output_type": "stream",
     "text": [
      "('G=', array([[-0.35984267, -0.933013  ],\n",
      "       [ 0.933013  , -0.35984267]]))\n",
      "('G^{-1}=', array([[-0.35984267,  0.933013  ],\n",
      "       [-0.933013  , -0.35984267]]))\n",
      "('G*G1=', array([[ 0.37505643,  0.92700198],\n",
      "       [-0.92700198,  0.37505643]]))\n"
     ]
    }
   ],
   "source": [
    "G = lie_group_SO2()\n",
    "G.gen_random_element()\n",
    "print('G=', G.mat)\n",
    "print('G^{-1}=', G.inverse())\n",
    "G1 = lie_group_SO2()\n",
    "G1.gen_random_element()\n",
    "print('G*G1=', G.dot(G1.mat))"
   ]
  },
  {
   "cell_type": "markdown",
   "metadata": {},
   "source": [
    "## Kinematics\n",
    "\n",
    "From the above discussion, it is clear that $G\\in SO(2)$ implies that $G=\\begin{pmatrix}\\cos\\theta & -\\sin\\theta \\\\ \\sin\\theta & \\cos\\theta \\end{pmatrix}$.  Suppose now that $\\theta\\equiv\\theta(t)$ is a function of time, then\n",
    "\\begin{equation*}\n",
    "G(t) = \\begin{pmatrix} \\cos\\theta(t) & -\\sin\\theta(t) \\\\ \\sin\\theta(t) & \\cos\\theta(t)\\end{pmatrix}.\n",
    "\\end{equation*}\n",
    "\n",
    "Taking the derivative with respect to time we get\n",
    "\\begin{align}\n",
    "\\dot{G} &= \\begin{pmatrix} -\\dot{\\theta}\\sin\\theta & -\\dot{\\theta}\\cos\\theta \\\\ \\dot{\\theta}\\cos\\theta & -\\dot{\\theta}\\sin\\theta \\end{pmatrix} \\\\\n",
    "&= \\begin{pmatrix} \\cos\\theta & -\\sin\\theta \\\\ \\sin\\theta & \\cos\\theta \\end{pmatrix} \n",
    "   \\begin{pmatrix} 0 & -\\dot{\\theta} \\\\ \\dot{\\theta} & 0 \\end{pmatrix} \\\\\n",
    "&= G\\dot{\\theta}^\\wedge,\n",
    "\\end{align}\n",
    "where we define\n",
    "\\begin{equation*}\n",
    "\\dot{\\theta}^\\wedge = \\begin{pmatrix} 0 & -\\dot{\\theta} \\\\ \\dot{\\theta} & 0 \\end{pmatrix} = J\\dot{\\theta}.\n",
    "\\end{equation*}\n",
    "\n",
    "The kinematic equation of motion on $SO(2)$ is therefore given by $\\dot{G} = G\\dot{\\theta}^{\\wedge}$\n",
    "\n",
    "Note that in $\\mathbb{R}^2$, the tangent to the unit circle at the point $(1,0)$ is a vertical line given by $\\ell = \\{\\sigma\\begin{pmatrix} 0 \\\\ 1\\end{pmatrix}: \\sigma\\in\\mathbb{R}\\}$."
   ]
  },
  {
   "cell_type": "code",
   "execution_count": 8,
   "metadata": {},
   "outputs": [
    {
     "data": {
      "text/plain": [
       "(-3, 3, -3, 3)"
      ]
     },
     "execution_count": 8,
     "metadata": {},
     "output_type": "execute_result"
    },
    {
     "data": {
      "image/png": "[encoded data removed]",
      "text/plain": [
       "<matplotlib.figure.Figure at 0x7fc1308268d0>"
      ]
     },
     "metadata": {},
     "output_type": "display_data"
    }
   ],
   "source": [
    "theta = np.linspace(0, 2*np.pi, 100)\n",
    "plt.plot(np.cos(theta), np.sin(theta))\n",
    "S = 3\n",
    "tangent_plane = np.column_stack((np.ones(100), np.linspace(-S, S, 100))) \n",
    "plt.plot(tangent_plane[:,0], tangent_plane[:,1])\n",
    "lie_alg = np.column_stack((0.*np.ones(100), np.linspace(-S, S, 100))) \n",
    "plt.plot(lie_alg[:,0], lie_alg[:,1], color='red')\n",
    "plt.text(1.25, 0, '$I$', fontsize=14)\n",
    "plt.axis('equal')\n",
    "plt.grid(True)\n",
    "plt.axis((-S, S, -S, S))"
   ]
  },
  {
   "cell_type": "markdown",
   "metadata": {},
   "source": [
    "The tangent plane is shown in orange and the Lie algebra, which is a subspace of $\\mathbb{R}^2$ is shown in red.  When $G$ is not the identity, then the tangent plane and its tangent space is shown in the plot below.  Note that the tangent space is a rotated (transformed) version of the Lie algebra."
   ]
  },
  {
   "cell_type": "code",
   "execution_count": 9,
   "metadata": {
    "scrolled": false
   },
   "outputs": [
    {
     "data": {
      "text/plain": [
       "(-3, 3, -3, 3)"
      ]
     },
     "execution_count": 9,
     "metadata": {},
     "output_type": "execute_result"
    },
    {
     "data": {
      "image/png": "[encoded data removed]",
      "text/plain": [
       "<matplotlib.figure.Figure at 0x7fc13082b0d0>"
      ]
     },
     "metadata": {},
     "output_type": "display_data"
    }
   ],
   "source": [
    "theta = np.linspace(0, 2*np.pi, 100)\n",
    "plt.plot(np.cos(theta), np.sin(theta))\n",
    "S = 3\n",
    "th = 60*np.pi/180.\n",
    "G = np.array([[np.cos(th), -np.sin(th)],[np.sin(th), np.cos(th)]])\n",
    "tangent_plane = np.column_stack((np.ones(100), np.linspace(-S, S, 100))) \n",
    "tangent_plane = np.dot(G, tangent_plane.T).T\n",
    "plt.plot(tangent_plane[:,0], tangent_plane[:,1])\n",
    "lie_alg = np.column_stack((0.*np.ones(100), np.linspace(-S, S, 100))) \n",
    "tangent_space = np.dot(G, lie_alg.T).T\n",
    "plt.plot(tangent_space[:,0], tangent_space[:,1], color='red')\n",
    "plt.text(0.5, 1.0, '$G$', fontsize=14)\n",
    "plt.axis('equal')\n",
    "plt.grid(True)\n",
    "plt.axis((-S, S, -S, S))"
   ]
  },
  {
   "cell_type": "markdown",
   "metadata": {},
   "source": [
    "In the complex plane $\\mathbb{C}$, the tangent to $S^1$ at the identity $z=1+0j$ is the vertical line $\\ell = \\{ \\sigma j: \\sigma\\in\\mathbb{R}\\}$.  In the set of $2\\times 2$ matrices, the tangent to $S^1=SO(2)$ at the identity $G=I$ is the vertical line $\\ell = \\{\\sigma\\begin{pmatrix} 0 & -1 \\\\ 1 & 0 \\end{pmatrix}: \\sigma\\in\\mathbb{R}\\} = \\{\\sigma J: \\sigma\\in\\mathbb{R}\\}$.  "
   ]
  },
  {
   "cell_type": "markdown",
   "metadata": {},
   "source": [
    "The tangent space at the identity $G=I$ is called the Lie Algebra.  \n",
    "\n",
    "The Lie algebra of $SO(2)$ will be denoted ${\\mathfrak so}(2)$ and in $\\mathbb{R}^{2\\times 2}$ is given by\n",
    "\\begin{equation}\n",
    "{\\mathfrak so}(2) = \\{ \\sigma J: \\sigma\\in\\mathbb{R}\\}\n",
    "\\end{equation}\n",
    "\n",
    "In $\\mathbb{R}^{2\\times 2}$, the Lie bracket is the standard matrix Lie bracket defined as $[A,B]=AB-BA$, where $A,B\\in so(2)$.  Note that since $A,B\\in so(2)$ that we can write $A=aJ$ and $B=bJ$ and therefore\n",
    "\\begin{align*}\n",
    "[A,B] &= AB - BA \\\\\n",
    "      &= (aJ)(bJ)-(bJ)(aJ) \\\\\n",
    "      &= (-abI) - (-baI)\\\\\n",
    "      &= 0.\n",
    "\\end{align*}\n",
    "Therefore, the Lie bracket on $so(2)$ is always zeros.  Lie groups whose Lie bracket is always zero are called Abelian Lie groups."
   ]
  },
  {
   "cell_type": "markdown",
   "metadata": {},
   "source": [
    "Note that the tangent space at an element that is not equal to identity, is just a transformed version of the Lie algebra ${\\mathfrak so}(2)$.  Since $\\dot{G}=G\\omega^{\\wedge}$, the tangent space at G is $G\\omega^{\\wedge}=GJ\\omega$.  "
   ]
  },
  {
   "cell_type": "markdown",
   "metadata": {},
   "source": [
    "## Exponential and Logarithmic Maps\n",
    "We have shown that the kinematic equation of motion on $SO(2)$ can be written as \n",
    "\\begin{equation}\n",
    "\\dot{G} = G\\omega^\\wedge.\n",
    "\\end{equation}\n",
    "Rearranging we get $\\dot{G}-G\\omega^\\wedge=0$.  Multiplying both sides of the equation by the integrating factor $e^{-\\omega^\\wedge}$ gives\n",
    "\\begin{equation}\n",
    "(\\dot{G} - G\\omega^\\wedge)e^{-\\omega^\\wedge} = 0,\n",
    "\\end{equation}\n",
    "which implies that \n",
    "\\begin{equation}\n",
    "\\frac{d}{dt}Ge^{-\\omega^\\wedge} = 0.\n",
    "\\end{equation}\n",
    "Integrating both sides from $0$ to $t$ gives\n",
    "\\begin{equation}\n",
    "G(t) = G(0)e^{\\omega^\\wedge t}.\n",
    "\\end{equation}\n",
    "Since $\\omega^\\wedge t = J\\omega t$, the exponential function maps the Lie algebra ${\\mathfrak so}(2)$ to the Lie group $SO(2)$.  "
   ]
  },
  {
   "cell_type": "markdown",
   "metadata": {},
   "source": [
    "For $SO(2)$ there is a simple formula for the exponential map $e^{J\\sigma}$ since $J^2=-I$ we have\n",
    "\\begin{align*}\n",
    "e^{J\\sigma} &= I + J\\sigma + \\frac{1}{2!}J^2\\sigma^2 + \\frac{1}{3!}J^3\\sigma^3 + \\frac{1}{4!}J^4\\sigma^4 + \\cdots \\\\\n",
    "&=(1-\\frac{1}{2!}\\sigma^2 + \\frac{1}{4!}\\sigma^4 + \\cdots)I + (\\sigma - \\frac{1}{3!}\\sigma^3 + \\frac{1}{5!}\\sigma^5+\\cdots)J \\\\\n",
    "&=\\cos\\sigma I + \\sin\\sigma J \\\\\n",
    "&=\\begin{pmatrix}\\cos\\sigma & -\\sin\\sigma \\\\ \\sin\\sigma & \\cos\\sigma \\end{pmatrix}.\n",
    "\\end{align*}\n",
    "Therefore the map $exp: {\\mathfrak so}(2)\\rightarrow SO(2)$ is periodic and is not one-to-one."
   ]
  },
  {
   "cell_type": "markdown",
   "metadata": {},
   "source": [
    "On the other hand, the logarithm maps the Lie group to the Lie algebra as $\\log:SO(2)\\rightarrow {\\mathfrak so}(2)$ and is defined as\n",
    "\\begin{equation}\n",
    "\\log\\begin{pmatrix}\\cos\\theta & -\\sin\\theta \\\\ \\sin\\theta & \\cos\\theta \\end{pmatrix} = (\\theta + 2\\pi n)J.\n",
    "\\end{equation}\n",
    "Alternatively, we could write\n",
    "\\begin{equation}\n",
    "\\log(G) = (\\vartheta + 2\\pi n)J, \\quad \\text{where} \\quad \\vartheta = \\tan^{-1}\\left(\\frac{G_{21}}{G_{11}}\\right).\n",
    "\\end{equation}\n",
    "We can add Python methods implement the logarithmic and exponential maps."
   ]
  },
  {
   "cell_type": "code",
   "execution_count": 10,
   "metadata": {},
   "outputs": [],
   "source": [
    "class lie_group_SO2(lie_group_SO2):\n",
    "    \n",
    "    # Exponential of g in so(2)\n",
    "    def exp(self, g):\n",
    "        # check to see of g is in so(2)\n",
    "        if np.linalg.norm(g+g.T)<.000001:\n",
    "            th = g[1,0]\n",
    "            G = np.array([[np.cos(th), -np.sin(th)], [np.sin(th), np.cos(th)]])\n",
    "            return G\n",
    "        else:\n",
    "            print('g is not in so(2)')\n",
    "    \n",
    "    # log of G in SO(2)\n",
    "    def log(self):\n",
    "        # check to see if G is in SO(2)\n",
    "        if np.linalg.norm(np.dot(self.mat, self.mat.T)-np.eye(2))<.000001:\n",
    "            varphi = np.arctan2(self.mat[1,0],self.mat[0,0])\n",
    "            g = np.array([[0, -varphi], [varphi, 0]])\n",
    "            return g\n",
    "        else:\n",
    "            print('G is not in SO(2)')"
   ]
  },
  {
   "cell_type": "code",
   "execution_count": 12,
   "metadata": {},
   "outputs": [
    {
     "name": "stdout",
     "output_type": "stream",
     "text": [
      "('G=', array([[ 0.21538195, -0.97652989],\n",
      "       [ 0.97652989,  0.21538195]]))\n",
      "('g=', array([[ 0.        , -1.35371339],\n",
      "       [ 1.35371339,  0.        ]]))\n",
      "('H=', array([[ 0.21538195, -0.97652989],\n",
      "       [ 0.97652989,  0.21538195]]))\n"
     ]
    }
   ],
   "source": [
    "# generate a random element in SO(2)\n",
    "G = lie_group_SO2()\n",
    "G.gen_random_element()\n",
    "print('G=', G.mat)\n",
    "# map to so(2) through the log\n",
    "g = G.log()\n",
    "print('g=', g)\n",
    "# map back to SO(2) through the exp\n",
    "H = G.exp(g)\n",
    "print('H=', H)"
   ]
  },
  {
   "cell_type": "markdown",
   "metadata": {},
   "source": []
  },
  {
   "cell_type": "code",
   "execution_count": null,
   "metadata": {},
   "outputs": [],
   "source": []
  }
 ],
 "metadata": {
  "kernelspec": {
   "display_name": "Python 3",
   "language": "python",
   "name": "python3"
  },
  "language_info": {
   "codemirror_mode": {
    "name": "ipython",
    "version": 2
   },
   "file_extension": ".py",
   "mimetype": "text/x-python",
   "name": "python",
   "nbconvert_exporter": "python",
   "pygments_lexer": "ipython2",
   "version": "2.7.12"
  }
 },
 "nbformat": 4,
 "nbformat_minor": 2
}
