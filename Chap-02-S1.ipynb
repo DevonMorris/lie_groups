{
 "cells": [
  {
   "cell_type": "markdown",
   "metadata": {},
   "source": [
    "[Table of Contents](table_of_contents.ipynb)"
   ]
  },
  {
   "cell_type": "markdown",
   "metadata": {},
   "source": [
    "# Chapter 1.  The Unit Circle $S^1$: Kinematics, Control, and Estimation"
   ]
  },
  {
   "cell_type": "markdown",
   "metadata": {},
   "source": [
    "1. [Definitions and Notation](#Definitions-and-Notation)\n",
    "1. [Kinematics](#Kinematics)\n",
    "  - [Exponential and Logarithmic Maps](#Exponential-and-Logarithmic-Maps)\n",
    "1. [Optimization](#Optimization)\n",
    "1. [Differential Equation Solvers](#Differential-Equation-Solvers)\n",
    "1. [Control](#Control)\n",
    "1. [Estimation](#Estimation)"
   ]
  },
  {
   "cell_type": "markdown",
   "metadata": {},
   "source": [
    "## Definitions and Notation"
   ]
  },
  {
   "cell_type": "markdown",
   "metadata": {},
   "source": [
    "We begin the study of Lie Groups and Lie Algebras by studying differential equations defined on the unit circle in $\\mathbb{R}^2$.  Note that the unit circle in $\\mathbb{R}^2$ is a one dimensional manifold embedded in the two dimensional Euclidean space $\\mathbb{R}^2$. Two spaces are said to be isomorphic if there is a differentiable one-to-one mapping between elements in each space.  Note that $\\mathbb{R}^2$ is isomorphic to the complex plane $\\mathbb{C}$ by equating the $x$-axis with the real line and the $y$-axis with the imaginary line.  In $\\mathbb{R}^2$ the unit circle is given by $S^1 = \\{ (x_1, x_2)\\in\\mathbb{R}^2: x_1^2+x_2^2=1\\}$.  In the complex plane, the unit circle is the set $S^1 = \\{z\\in\\mathbb{C}: |z|=1\\}$.  Since any complex number $z\\in\\mathbb{C}$ can be written in rectangular form as $z=a+jb$ and in polar form as $z=me^{j\\theta}=m\\cos\\theta +jm\\sin\\theta$, the unit circle can be alternatively represented as $S^1 = \\{e^{j\\theta}\\in\\mathbb{C}: \\theta\\in(-\\pi, pi]\\}$."
   ]
  },
  {
   "cell_type": "markdown",
   "metadata": {},
   "source": [
    "Define the set of 2x2 matrices $\\mathcal{M} = \\left\\{\\begin{pmatrix} a & -b \\\\ b & a\\end{pmatrix}: a,b \\in \\mathbb{R} \\right\\}\\subset \\mathbb{R}^{2\\times 2}$.  It is clear that the complex plane $\\mathbb{C}$ is isomorphic to $\\mathcal{M}$ since for every complex number $z=a+jb$ there is unique element in $\\mathcal{M}$, and visa versa.  It turns out that multiplying complex numbers is equivalent to matrix multiplication over $\\mathcal{M}$. As can be seen from simple algebra:\n",
    "\\begin{align*}\n",
    "(a+jb)(c+jd) &= (ac-bd) + j(bc+ad) \\\\\n",
    "\\begin{pmatrix} a & -b \\\\ b & a \\end{pmatrix} \\begin{pmatrix} c & -d \\\\ d & c \\end{pmatrix} &= \\begin{pmatrix} ac-bd & -(bc+ad) \\\\ (bc+ad) & ac-bd \\end{pmatrix}\n",
    "\\end{align*}\n",
    "\n",
    "In fact, define $I=\\begin{pmatrix} 1 & 0 \\\\ 0 & 1 \\end{pmatrix}\\subset\\mathcal{M}$ and $J=\\begin{pmatrix} 0 & -1 \\\\ 1 & 0 \\end{pmatrix}\\subset\\mathcal{M}$ and note that $I^2=I$, $IJ=JI=J$ and $J^2=-I$.  Therefore $I$ acts like the complex number $1$, and $J$ acts like the complex number $j=\\sqrt{-1}$.  Any element of $\\mathcal{M}$ can be written as $aI+bJ$ in the same way that any element of the complex plane $\\mathbb{C}$ can be written as $a+jb$.\n"
   ]
  },
  {
   "cell_type": "markdown",
   "metadata": {},
   "source": [
    "The unit circle embedded in the complex plane is given by the set $S^1=\\{ z\\in\\mathbb{C}: |z|=1\\}$.  Similarly, the unit circle embedded in the set of $2\\times 2$ matrices $\\mathbb{R}^{2\\times 2}$ is given by $S^1=\\{G\\in\\mathcal{M}: \\det{G}=1\\}$.  \n",
    "\n",
    "For example, the point $x=(1/\\sqrt{2}, 1/\\sqrt{2})^\\top$ represent a point on the unit circle in $\\mathbb{R}^2$ that is equivalent to the representation $z=e^{j\\frac{\\pi}{4}}$ in $\\mathbb{C}$, that is equivalent to the representation $G=\\begin{pmatrix}\\frac{1}{\\sqrt{2}}& -\\frac{1}{\\sqrt{2}} \\\\ \\frac{1}{\\sqrt{2}} & \\frac{1}{\\sqrt{2}}\\end{pmatrix}$ in $\\mathbb{R}^{2\\times 2}$.\n",
    "\n",
    "Therefore, we can talk of embeddings \n",
    "\\begin{align*}\n",
    "\\pi_1: S^1 &\\rightarrow \\mathbb{R}^2, \\\\\n",
    "\\pi_2: S^1 &\\rightarrow \\mathbb{C}, \\\\\n",
    "\\pi_3: S^1 &\\rightarrow \\mathbb{R}^{2\\times 2}.\n",
    "\\end{align*}\n"
   ]
  },
  {
   "cell_type": "markdown",
   "metadata": {},
   "source": [
    "A matrix $R$ is said to be orthgonal if $R^\\top R = RR^\\top = I$.  The set of $2\\times 2$ orthogonal matrices is denoted $O(2)$.  Orthogonal matries can have determinant equal to $\\pm 1$.  The set of orthogonal matrices with determinant equal to 1 is denoted $SO(2)$ and is the called the special orthogonal group.  It is fairly straight forward to show that $SO(2)=\\{G\\in\\mathcal{M}: det(G)=1\\}$ and is therefore isomorphic to $S^1$."
   ]
  },
  {
   "cell_type": "markdown",
   "metadata": {},
   "source": [
    "The following code establishes a class for $S^1$.  We will use matrices in $\\mathbb{R}^{2\\times 2}$ as the native representation for elements of $S^1$ and provide functions that convert between the representations.  Since $S^1$ is isomorphic to $SO(2)$ and since we will generalize $SO(3)$ later, the discussion that follows will focus on $SO(2)$."
   ]
  },
  {
   "cell_type": "code",
   "execution_count": 2,
   "metadata": {},
   "outputs": [],
   "source": [
    "%matplotlib inline\n",
    "import random\n",
    "\n",
    "import numpy as np\n",
    "import matplotlib.pyplot as plt\n",
    "\n",
    "class lie_group_SO2:\n",
    "    # this class will be used to define operations on SO2\n",
    "    def __init__(self, G=np.eye(2)):\n",
    "        self.mat = G\n",
    "    \n",
    "    # generate a random element in SO2\n",
    "    def gen_random_element(self):\n",
    "        th = random.uniform(-np.pi, np.pi)\n",
    "        self.mat = np.array([[np.cos(th), -np.sin(th)], [np.sin(th), np.cos(th)]])\n",
    "    \n",
    "    # functions that convert between representations\n",
    "    def vector(self):\n",
    "        return self.mat[:,0]\n",
    "\n",
    "    def complex(self):\n",
    "        return self.mat[0,0] + self.mat[1,0]*1j   \n",
    "    \n",
    "    def magPhase(self):\n",
    "        mag = np.sqrt(self.mat[0,0]**2 + self.mat[1,0]**2)\n",
    "        phase = np.arctan2(self.mat[1,0], self.mat[0,0])\n",
    "        return mag, phase\n",
    "    "
   ]
  },
  {
   "cell_type": "markdown",
   "metadata": {},
   "source": [
    "The following code tests these functions."
   ]
  },
  {
   "cell_type": "code",
   "execution_count": 40,
   "metadata": {},
   "outputs": [
    {
     "name": "stdout",
     "output_type": "stream",
     "text": [
      "G= [[ 0.55832249 -0.82962401]\n",
      " [ 0.82962401  0.55832249]]\n",
      "x= [0.55832249 0.82962401]\n",
      "z= (0.5583224867623947+0.8296240116917154j)\n",
      "mag =  1.0 , phase =  6.147681643184119 deg\n"
     ]
    }
   ],
   "source": [
    "G1 = lie_group_SO2()\n",
    "G1.gen_random_element()\n",
    "print('G=', G1.mat)\n",
    "x = G1.vector()\n",
    "print('x=', x)\n",
    "z = G1.complex()\n",
    "print('z=', z)\n",
    "mag, phase = G1.magPhase()\n",
    "print('mag = ', mag, ', phase = ', 2*np.pi*phase, 'deg')"
   ]
  },
  {
   "cell_type": "markdown",
   "metadata": {},
   "source": [
    "In mathematics, a group is defined as a set of objects $\\mathcal{G}$ that contains a unique element $I\\in\\mathcal{G}$ called the identity, and an operation $\\cdot$ such that \n",
    "*  $G_1, G_2 \\in \\mathcal{G}$ implies that $G_1\\cdot G_2 \\in \\mathcal{G}$,\n",
    "*  For every $G\\in\\mathcal{G}$ there exists and element $H\\in\\mathcal{G}$ such that $G\\cdot H = H\\cdot G = I$.  $H$ is called the inverse of $G$ and will be denoted as $G^{-1}$.\n",
    "\n",
    "The first item implies that $\\mathcal{G}$ is closed under the $\\cdot$ operation.  The second item implies that every element in $\\mathcal{G}$ has an inverse.\n",
    "\n",
    "For $S^1$, the $\\cdot$ operator is defined differently depending on the space into which it is embedded.  For example, in $\\mathbb{C}$, let $z_1=e^{j\\theta_1}$ and $z_2=e^{j\\theta^2}$, then clearly \n",
    "\\begin{equation}\n",
    "z = z_1 z_2 = e^{j\\theta_1} e^{j\\theta_2} = e^{j(\\theta_1+\\theta)}\n",
    "\\end{equation}\n",
    "is an element of $S^1$, and if $z=1+j0$ is the identity, then the inverse operator is simply the complex conjugate since\n",
    "\\begin{equation}\n",
    "z\\bar{z} = e^{j\\theta} e^{-j\\theta} = e^{j(\\theta-\\theta)} = e^{j0} = 1.\n",
    "\\end{equation}\n",
    "\n",
    "On the other hand, if $S^1$ is embedded in $\\mathbb{R}^{2\\times 2}$, and the identity is defined as the identity matrix, then the $\\cdot$ operator is simply matrix multiplication since\n",
    "\\begin{align*}\n",
    "G_1 G_2 &= \\begin{pmatrix} \\cos(\\theta_1) & -\\sin(\\theta_1) \\\\ \\sin(\\theta_1) & \\cos(\\theta_1) \\end{pmatrix}\n",
    "\\begin{pmatrix} \\cos(\\theta_2) & -\\sin(\\theta_2) \\\\ \\sin(\\theta_2) & \\cos(\\theta_2) \\end{pmatrix} \\\\\n",
    "&= \\begin{pmatrix} \\cos(\\theta_1)\\cos(\\theta_1)-\\sin(\\theta_1)\\sin(\\theta_2) & -\\cos(\\theta_1)\\sin(\\theta_2)-\\sin(\\theta_1)\\cos(\\theta_2) \\\\ \\cos(\\theta_1)\\sin(\\theta_2)+\\sin(\\theta_1)\\cos(\\theta_2) & \\cos(\\theta_1)\\cos(\\theta_1)-\\sin(\\theta_1)\\sin(\\theta_2) \\end{pmatrix} \\\\\n",
    "&= \\begin{pmatrix} \\cos(\\theta_1+\\theta_2) & -\\sin(\\theta_1+\\theta_2) \\\\ \\sin(\\theta_1+\\theta_2) & \\cos(\\theta_1+\\theta_2) \\end{pmatrix}\n",
    "\\end{align*}\n",
    "and the inverse of $G\\in\\mathcal{G}$ is given by the matrix inverse since $GG^{-1}=I$.  \n",
    "\n",
    "It should be clear that if $S^1$ is embedded in $\\mathbb{R}^2$ the $\\cdot$ and inverse operators are much more complex.  Since operations on the group $S^1$ can be carried out with matrix operations, the most convenient representation will be in $\\mathbb{R}^{2\\times 2}$.   (Actually, $\\mathbb{C}$ is convenient for $S^1$ but does not extend to other groups, whereas matrix operations will extend to other groups useful in robotics.)"
   ]
  },
  {
   "cell_type": "markdown",
   "metadata": {},
   "source": [
    "We can expand the python class to include an identity, the dot and the inverse operator."
   ]
  },
  {
   "cell_type": "code",
   "execution_count": 42,
   "metadata": {},
   "outputs": [],
   "source": [
    "class lie_group_SO2(lie_group_SO2):\n",
    "    \n",
    "    # compose (multiply) two elements in SO2\n",
    "    def dot(self, G1):\n",
    "        return np.dot(self.mat, G1)\n",
    "    \n",
    "    # return the identity element\n",
    "    def identity():\n",
    "        return np.eye(2)\n",
    "\n",
    "    # return the inverse of an element in SO(2)\n",
    "    def inverse(self):\n",
    "        return self.mat.T"
   ]
  },
  {
   "cell_type": "markdown",
   "metadata": {},
   "source": [
    "The following lines test the code."
   ]
  },
  {
   "cell_type": "code",
   "execution_count": 43,
   "metadata": {},
   "outputs": [
    {
     "name": "stdout",
     "output_type": "stream",
     "text": [
      "G= [[ 0.9967954   0.07999331]\n",
      " [-0.07999331  0.9967954 ]]\n",
      "G^{-1}= [[ 0.9967954  -0.07999331]\n",
      " [ 0.07999331  0.9967954 ]]\n",
      "G*G1= [[-0.93025175  0.36692191]\n",
      " [-0.36692191 -0.93025175]]\n"
     ]
    }
   ],
   "source": [
    "G = lie_group_SO2()\n",
    "G.gen_random_element()\n",
    "print('G=', G.mat)\n",
    "print('G^{-1}=', G.inverse())\n",
    "G1 = lie_group_SO2()\n",
    "G1.gen_random_element()\n",
    "print('G*G1=', G.dot(G1.mat))"
   ]
  },
  {
   "cell_type": "markdown",
   "metadata": {},
   "source": [
    "## Kinematics\n",
    "\n",
    "From the above discussion, it is clear that $G\\in SO(2)$ implies that $G=\\begin{pmatrix}\\cos\\theta & -\\sin\\theta \\\\ \\sin\\theta & \\cos\\theta \\end{pmatrix}$.  Suppose now that $\\theta\\equiv\\theta(t)$ is a function of time, then\n",
    "\\begin{equation*}\n",
    "G(t) = \\begin{pmatrix} \\cos\\theta(t) & -\\sin\\theta(t) \\\\ \\sin\\theta(t) & \\cos\\theta(t)\\end{pmatrix}.\n",
    "\\end{equation*}\n",
    "\n",
    "Taking the derivative with respect to time we get\n",
    "\\begin{align}\n",
    "\\dot{G} &= \\begin{pmatrix} -\\dot{\\theta}\\sin\\theta & -\\dot{\\theta}\\cos\\theta \\\\ \\dot{\\theta}\\cos\\theta & -\\dot{\\theta}\\sin\\theta \\end{pmatrix} \\\\\n",
    "&= \\begin{pmatrix} \\cos\\theta & -\\sin\\theta \\\\ \\sin\\theta & \\cos\\theta \\end{pmatrix} \n",
    "   \\begin{pmatrix} 0 & -\\dot{\\theta} \\\\ \\dot{\\theta} & 0 \\end{pmatrix} \\\\\n",
    "&= G\\dot{\\theta}^\\times,\n",
    "\\end{align}\n",
    "where we define\n",
    "\\begin{equation*}\n",
    "\\dot{\\theta}^\\times = \\begin{pmatrix} 0 & -\\dot{\\theta} \\\\ \\dot{\\theta} & 0 \\end{pmatrix}.\n",
    "\\end{equation*}\n",
    "\n",
    "The kinematic equation of motion on $SO(2)$ is therefore given by $\\dot{G} = G\\dot{\\theta}^\\times$\n",
    "\n",
    "Note that in $\\mathbb{R}^2$, the tangent to the unit circle at the point $(1,0)$ is a vertical line given by $\\ell = \\{\\sigma\\begin{pmatrix} 0 \\\\ 1\\end{pmatrix}: \\sigma\\in\\mathbb{R}\\}$."
   ]
  },
  {
   "cell_type": "code",
   "execution_count": 72,
   "metadata": {},
   "outputs": [
    {
     "data": {
      "text/plain": [
       "(-3, 3, -3, 3)"
      ]
     },
     "execution_count": 72,
     "metadata": {},
     "output_type": "execute_result"
    },
    {
     "data": {
      "image/png": "[encoded data removed]",
      "text/plain": [
       "<matplotlib.figure.Figure at 0x1090d87f0>"
      ]
     },
     "metadata": {},
     "output_type": "display_data"
    }
   ],
   "source": [
    "theta = np.linspace(0, 2*np.pi, 100)\n",
    "plt.plot(np.cos(theta), np.sin(theta))\n",
    "S = 3\n",
    "tangent_plane = np.column_stack((np.ones(100), np.linspace(-S, S, 100))) \n",
    "plt.plot(tangent_plane[:,0], tangent_plane[:,1])\n",
    "lie_alg = np.column_stack((0.*np.ones(100), np.linspace(-S, S, 100))) \n",
    "plt.plot(lie_alg[:,0], lie_alg[:,1], color='red')\n",
    "plt.text(1.25, 0, '$I$', fontsize=14)\n",
    "plt.axis('equal')\n",
    "plt.grid(True)\n",
    "plt.axis((-S, S, -S, S))"
   ]
  },
  {
   "cell_type": "markdown",
   "metadata": {},
   "source": [
    "The tangent plane is shown in orange and the Lie algebra, which is a subspace of $\\mathbb{R}^2$ is shown in red.  When $G$ is not the identity, then the tangent plane and its tangent space is shown in the plot below.  Note that the tangent space is a rotated (transformed) version of the Lie algebra."
   ]
  },
  {
   "cell_type": "code",
   "execution_count": 76,
   "metadata": {},
   "outputs": [
    {
     "data": {
      "text/plain": [
       "(-3, 3, -3, 3)"
      ]
     },
     "execution_count": 76,
     "metadata": {},
     "output_type": "execute_result"
    },
    {
     "data": {
      "image/png": "[encoded data removed]",
      "text/plain": [
       "<matplotlib.figure.Figure at 0x1090ddc88>"
      ]
     },
     "metadata": {},
     "output_type": "display_data"
    }
   ],
   "source": [
    "theta = np.linspace(0, 2*np.pi, 100)\n",
    "plt.plot(np.cos(theta), np.sin(theta))\n",
    "S = 3\n",
    "th = 60*np.pi/180.\n",
    "G = np.array([[np.cos(th), -np.sin(th)],[np.sin(th), np.cos(th)]])\n",
    "tangent_plane = np.column_stack((np.ones(100), np.linspace(-S, S, 100))) \n",
    "tangent_plane = np.dot(G, tangent_plane.T).T\n",
    "plt.plot(tangent_plane[:,0], tangent_plane[:,1])\n",
    "lie_alg = np.column_stack((0.*np.ones(100), np.linspace(-S, S, 100))) \n",
    "tangent_space = np.dot(G, lie_alg.T).T\n",
    "plt.plot(tangent_space[:,0], tangent_space[:,1], color='red')\n",
    "plt.text(0.5, 1.0, '$G$', fontsize=14)\n",
    "plt.axis('equal')\n",
    "plt.grid(True)\n",
    "plt.axis((-S, S, -S, S))"
   ]
  },
  {
   "cell_type": "markdown",
   "metadata": {},
   "source": [
    "In the complex plane $\\mathbb{C}$, the tangent to $S^1$ at the identity $z=1+0j$ is the vertical line $\\ell = \\{ \\sigma j: \\sigma\\in\\mathbb{R}\\}$.  In the set of $2\\times 2$ matrices, the tangent to $S^1=SO(2)$ at the identity $G=I$ is the vertical line $\\ell = \\{\\sigma\\begin{pmatrix} 0 & -1 \\\\ 1 & 0 \\end{pmatrix}: \\sigma\\in\\mathbb{R}\\} = \\{\\sigma J: \\sigma\\in\\mathbb{R}\\}$.  \n"
   ]
  },
  {
   "cell_type": "markdown",
   "metadata": {},
   "source": [
    "The tangent space at the identity $G=I$ is called the Lie Algebra.  \n",
    "\n",
    "The Lie algebra of $SO(2)$ will be denoted ${\\mathfrak so}(2)$ and in $\\mathbb{R}^{2\\times 2}$ is given by\n",
    "\\begin{equation}\n",
    "{\\mathfrak so}(2) = \\{ \\sigma J: \\sigma\\in\\mathbb{R}\\}\n",
    "\\end{equation}\n",
    "\n",
    "In $\\mathbb{R}^{2\\times 2}$, the Lie bracket is the standard matrix Lie bracket defined as $[A,B]=AB-BA$, where $A,B\\in so(2)$.  Note that since $A,B\\in so(2)$ that we can write $A=aJ$ and $B=bJ$ and therefore\n",
    "\\begin{align*}\n",
    "[A,B] &= AB - BA \\\\\n",
    "      &= (aJ)(bJ)-(bJ)(aJ) \\\\\n",
    "      &= (-abI) - (-baI)\\\\\n",
    "      &= 0.\n",
    "\\end{align*}\n",
    "Therefore, the Lie bracket on $so(2)$ is always zeros.  Lie groups whose Lie bracket is always zero are called Abelian Lie groups."
   ]
  },
  {
   "cell_type": "markdown",
   "metadata": {},
   "source": [
    "Note that the tangent space at an element that is not equal to identity, is just a transformed version of the Lie algebra ${\\mathfrak so}(2)$.  Since $\\dot{G}=G\\omega^{\\times}$, the tangent space at G is $G\\omega^{\\times}=GJ\\omega$.  "
   ]
  },
  {
   "cell_type": "markdown",
   "metadata": {},
   "source": [
    "### Exponential and Logarithmic Maps\n",
    "We have shown that the kinematic equation of motion on $SO(2)$ can be written as \n",
    "\\begin{equation}\n",
    "\\dot{G} = G\\omega^\\times.\n",
    "\\end{equation}\n",
    "Rearranging we get $\\dot{G}-G\\omega^\\times=0$.  Multiplying both sides of the equation by the integrating factor $e^{-\\omega^\\times}$ gives\n",
    "\\begin{equation}\n",
    "(\\dot{G} - G\\omega^\\times)e^{-\\omega^\\times} = 0,\n",
    "\\end{equation}\n",
    "which implies that \n",
    "\\begin{equation}\n",
    "\\frac{d}{dt}Ge^{-\\omega^\\times} = 0.\n",
    "\\end{equation}\n",
    "Integrating both sides from $0$ to $t$ gives\n",
    "\\begin{equation}\n",
    "G(t) = G(0)e^{\\omega^\\times t}.\n",
    "\\end{equation}\n",
    "Since $\\omega^\\times t = J(\\omega t)$, the exponential function maps the Lie algebra ${\\mathfrak so}(2)$ to the Lie group $SO(2)$.  "
   ]
  },
  {
   "cell_type": "markdown",
   "metadata": {},
   "source": [
    "For $SO(2)$ there is a simple formula for the exponential map $e^{J\\sigma}$ since $J^2=-I$ we have\n",
    "\\begin{align*}\n",
    "e^{J\\sigma} &= I + J\\sigma + \\frac{1}{2!}J^2\\sigma^2 + \\frac{1}{3!}J^3\\sigma^3 + \\frac{1}{4!}J^4\\sigma^4 + \\cdots \\\\\n",
    "&=(1-\\frac{1}{2!}\\sigma^2 + \\frac{1}{4!}\\sigma^4 + \\cdots)I + (\\sigma - \\frac{1}{3!}\\sigma^3 + \\frac{1}{5!}\\sigma^5+\\cdots)J \\\\\n",
    "&=\\cos\\sigma I + \\sin\\sigma J \\\\\n",
    "&=\\begin{pmatrix}\\cos\\sigma & -\\sin\\sigma \\\\ \\sin\\sigma & \\cos\\sigma \\end{pmatrix}.\n",
    "\\end{align*}\n",
    "Therefore the map $exp: {\\mathfrak so}(2)\\rightarrow SO(2)$ is periodic and is not one-to-one."
   ]
  },
  {
   "cell_type": "markdown",
   "metadata": {},
   "source": [
    "On the other hand, the logarithm maps the Lie group to the Lie algebra as $\\log:SO(2)\\rightarrow {\\mathfrak so}(2)$ and is defined as\n",
    "\\begin{equation}\n",
    "\\log\\begin{pmatrix}\\cos\\theta & -\\sin\\theta \\\\ \\sin\\theta & \\cos\\theta \\end{pmatrix} = (\\theta + 2\\pi n)J.\n",
    "\\end{equation}\n",
    "Alternatively, we could write\n",
    "\\begin{equation}\n",
    "\\log(G) = (\\vartheta + 2\\pi n)J, \\quad \\text{where} \\quad \\vartheta = \\tan^{-1}\\left(\\frac{G_{21}}{G_{11}}\\right).\n",
    "\\end{equation}\n",
    "We can add Python methods implement the logarithmic and exponential maps.\n",
    "\n"
   ]
  },
  {
   "cell_type": "code",
   "execution_count": 62,
   "metadata": {},
   "outputs": [],
   "source": [
    "class lie_group_SO2(lie_group_SO2):\n",
    "    \n",
    "    # Exponential of g in so(2)\n",
    "    def exp(self, g):\n",
    "        # check to see of g is in so(2)\n",
    "        if np.linalg.norm(g+g.T)<.000001:\n",
    "            th = g[1,0]\n",
    "            G = np.array([[np.cos(th), -np.sin(th)], [np.sin(th), np.cos(th)]])\n",
    "            return G\n",
    "        else:\n",
    "            print('g is not in so(2)')\n",
    "    \n",
    "    # log of G in SO(2)\n",
    "    def log(self):\n",
    "        # check to see if G is in SO(2)\n",
    "        if np.linalg.norm(np.dot(self.mat, self.mat.T)-np.eye(2))<.000001:\n",
    "            varphi = np.arctan2(self.mat[1,0],self.mat[0,0])\n",
    "            g = np.array([[0, -varphi], [varphi, 0]])\n",
    "            return g\n",
    "        else:\n",
    "            print('G is not in SO(2)')\n"
   ]
  },
  {
   "cell_type": "code",
   "execution_count": 67,
   "metadata": {},
   "outputs": [
    {
     "name": "stdout",
     "output_type": "stream",
     "text": [
      "G= [[ 0.55785832  0.8299362 ]\n",
      " [-0.8299362   0.55785832]]\n",
      "g= [[ 0.         0.9789933]\n",
      " [-0.9789933  0.       ]]\n",
      "H= [[ 0.55785832  0.8299362 ]\n",
      " [-0.8299362   0.55785832]]\n"
     ]
    }
   ],
   "source": [
    "# generate a random element in SO(2)\n",
    "G = lie_group_SO2()\n",
    "G.gen_random_element()\n",
    "print('G=', G.mat)\n",
    "# map to so(2) through the log\n",
    "g = G.log()\n",
    "print('g=', g)\n",
    "# map back to SO(2) through the exp\n",
    "H = G.exp(g)\n",
    "print('H=', H)\n",
    "\n"
   ]
  },
  {
   "cell_type": "markdown",
   "metadata": {},
   "source": [
    "## Optimization (Gradient Descent) on $S^1$\n",
    "\n",
    "This section follows http://www.seas.upenn.edu/~cjtaylor/PUBLICATIONS/pdfs/TaylorTR94b.pdf\n",
    "\n",
    "Consider the robot odometry problem where the objective is to find the correct rotation and translation between two frames given $N$ matching features.  For the $i^{th}$ feature, let $\\bar{p}_i\\in\\mathbb{R}^2$ be the position of the feature in Camera-0, and let $\\bar{q}_i\\in\\mathbb{R}^2$ be the position in Camera-1.  If $R$ is the rotation from Camera-0 to Camera-1 and if $T$ is the position of Camera-0 relative to Camera-1 in the Camera-1 coordinates, then\n",
    "\\begin{equation}\n",
    "\\bar{q}_i = R\\bar{p}_i + T.\n",
    "\\end{equation}\n",
    "Let $\\bar{q}_i = \\lambda_i q_i$ and $\\bar{p}_i = \\mu_i p_i$, where $q_i$ and $p_i$ are in image normalized coordinates, where the second element is one.  \n",
    "\n"
   ]
  },
  {
   "cell_type": "markdown",
   "metadata": {},
   "source": [
    "<<<<<<< LOCAL CELL DELETED >>>>>>>\n",
    "## Optimization\n",
    "\n",
    "Gradient Descent on $S^1$\n",
    "\n",
    "Jerel"
   ]
  },
  {
   "cell_type": "markdown",
   "metadata": {},
   "source": [
    "## Differential Equation Solvers\n",
    "In any implementation of time-varying systems, thought must be given to numerical integration methods for finding approximate solutions to differential equations. Typical algorithms include Euler's Method and Runge-Kutta Methods (i.e., RK4). However, these classical algorithms are developed for use on flat Euclidean spaces and numerical instability issues can arise when applied to curvy manifolds such as the Lie groups relevant to robotics. For these applications, numerical Lie group integrators can be used to improve stability&mdash;especially over long time windows and for slower sampling rates."
   ]
  },
  {
   "cell_type": "markdown",
   "metadata": {},
   "source": [
    "### Motivating Example\n",
    "Consider the following motivating example. A pencil is spinning on a flat table. It's configuration space is $S^1$, which represents the space of possible $1$-dimensional orientations. The pencil's angular velocity is given by $\\dot{\\theta} = \\omega(t)$, which we can measure using a nanometer-sized gyro with a sampling rate of $T_s=0.01$ seconds. Our objective is to use these angular velocity measurements to perform dead-reckoning so we can estimate the current angle of the pencil.\n",
    "\n",
    "Let's first generate samples from the gyro on our spinning pencil. We assume that the pencil starts with some initial velocity that slowly decays over time."
   ]
  },
  {
   "cell_type": "code",
   "execution_count": 3,
   "metadata": {},
   "outputs": [
    {
     "data": {
      "image/png": "[encoded data removed]",
      "text/plain": [
       "<matplotlib.figure.Figure at 0x7f5e5802aac8>"
      ]
     },
     "metadata": {},
     "output_type": "display_data"
    }
   ],
   "source": [
    "def generate_gyro_samples(w0=50, Ts=0.01, secs=5, **kwargs):\n",
    "    # number of samples\n",
    "    N = int(secs/Ts)\n",
    "    \n",
    "    # sample time vector\n",
    "    n = np.arange(N)\n",
    "\n",
    "    # generate the slowly-decaying signal\n",
    "    alpha = kwargs['alpha']\n",
    "    w = w0*np.exp(-alpha*(n*Ts))\n",
    "    \n",
    "    # Make some noise!\n",
    "    sigma = kwargs['sigma']\n",
    "    eta = sigma*np.random.randn(N)\n",
    "    \n",
    "    return w + eta\n",
    "\n",
    "# Simulation parameters\n",
    "P = {\n",
    "    # initial angular velocity\n",
    "    'w0': 50,\n",
    "    \n",
    "    # sample period\n",
    "    'Ts': 0.01,\n",
    "    \n",
    "    # duration of simulation\n",
    "    'secs': 30,\n",
    "    \n",
    "    # exponential decay parameter\n",
    "    'alpha': 0.05,\n",
    "    \n",
    "    # std dev of AWGN\n",
    "    'sigma': 0.25\n",
    "}\n",
    "\n",
    "# Generate samples of gyro measurements\n",
    "w = generate_gyro_samples(**P)\n",
    "fig = plt.figure()\n",
    "plt.plot(w)\n",
    "plt.title('Gyro Samples over time')\n",
    "plt.grid(); plt.xlabel('Sample'); plt.ylabel('Angular Velocity [rad/s]')\n",
    "plt.show()"
   ]
  },
  {
   "cell_type": "markdown",
   "metadata": {},
   "source": [
    "#### Group Representation Class\n",
    "To represent the orientation, which is an element of $S^1$, the following Python class is used. Internally, we use the unit-length complex number representation of group elements."
   ]
  },
  {
   "cell_type": "code",
   "execution_count": 4,
   "metadata": {},
   "outputs": [],
   "source": [
    "class S1:\n",
    "    def __init__(self, theta=0):\n",
    "        # The representation of the group element\n",
    "        self.z = self.from_algebra(theta)\n",
    "        \n",
    "        # Also store the original element of the algebra\n",
    "        self.theta = theta\n",
    "    \n",
    "    def from_algebra(self, theta):\n",
    "        return np.exp(1j*theta)\n",
    "    \n",
    "    def to_algebra(self, z):\n",
    "        return np.imag(np.log(z))\n",
    "    \n",
    "    def visualize(self, trajectory=np.array([])):\n",
    "        \"\"\"Visualize the group element on its manifold\n",
    "        :param trajectory: optional list of group elements to plot\n",
    "        \"\"\"\n",
    "        fig = plt.figure(figsize=(7,7))\n",
    "\n",
    "        n = np.linspace(0, 2*np.pi, 100)\n",
    "        plt.plot(np.cos(n), np.sin(n))\n",
    "        plt.axis('square'), plt.axis([-2, 2, -2, 2]), plt.axis('off')\n",
    "        \n",
    "        if not trajectory.size:\n",
    "            trajectory = np.array([self.z])\n",
    "\n",
    "        x, y = np.real(trajectory), np.imag(trajectory)\n",
    "        plt.scatter(x, y, s=50, c='r')\n",
    "        \n",
    "        plt.show()"
   ]
  },
  {
   "cell_type": "markdown",
   "metadata": {},
   "source": [
    "Using this class, we can visualize the current orientation of the pencil on the manifold $S^1$."
   ]
  },
  {
   "cell_type": "code",
   "execution_count": 5,
   "metadata": {},
   "outputs": [
    {
     "data": {
      "image/png": "[encoded data removed]",
      "text/plain": [
       "<matplotlib.figure.Figure at 0x7f5e5802a668>"
      ]
     },
     "metadata": {},
     "output_type": "display_data"
    }
   ],
   "source": [
    "z = S1(theta=np.pi/4)\n",
    "z.visualize()"
   ]
  },
  {
   "cell_type": "markdown",
   "metadata": {},
   "source": [
    "#### Kinematics\n",
    "The kinematics that describe the evolution of the pencil's orientation on the manifold is given by the first-order differential equation\n",
    "\n",
    "\\begin{equation}\n",
    "\\dot{z} = f(z) = j \\dot{\\theta} z = j \\omega z,\n",
    "\\end{equation}\n",
    "\n",
    "where $\\theta \\in \\mathfrak{g} = \\mathbb{R}$ and $z \\in \\mathcal{G} = S^1$."
   ]
  },
  {
   "cell_type": "markdown",
   "metadata": {},
   "source": [
    "#### Euler's Method (Naive)\n",
    "We would like to use a computer to approximate this ODE. A common numerical method for solving first-order ODEs is Euler's Method, an explicit algorithm which uses the limit definition of a derivative to find the update rule\n",
    "\n",
    "\\begin{align}\n",
    "\\frac{z(t+h)-z(t)}{h} &= j\\omega z(t)\\\\\n",
    "z(t+T_s) &= z(t)+h\\omega j z(t).\n",
    "\\end{align}\n",
    "\n",
    "Assuming $\\omega$ is constant in each sample interval and using $h=T_s$ (since that's when we have data to integrate), discretizing yields the digital algorithm\n",
    "\n",
    "\\begin{align}\n",
    "z[n+1] &= z[n]+jT_s\\omega[n] z[n]\n",
    "\\end{align}"
   ]
  },
  {
   "cell_type": "code",
   "execution_count": 6,
   "metadata": {},
   "outputs": [],
   "source": [
    "class S1(S1):\n",
    "    def euler_integration(self, w, Ts=0.01, secs=5, **kwargs):\n",
    "        # convert seconds to steps\n",
    "        steps = int(secs/Ts)\n",
    "        \n",
    "        # Store trajectory\n",
    "        trajectory = np.zeros((steps+1,), dtype=complex)\n",
    "        trajectory[0] = self.z\n",
    "\n",
    "        for i in range(steps):\n",
    "            self.z += Ts*( 1j*w[i]*self.z )\n",
    "            trajectory[i+1] = self.z\n",
    "            \n",
    "        return trajectory"
   ]
  },
  {
   "cell_type": "code",
   "execution_count": 7,
   "metadata": {},
   "outputs": [
    {
     "name": "stdout",
     "output_type": "stream",
     "text": [
      "|z_final| = 3550019054817597167461004614102347968222888722432.0000\n"
     ]
    },
    {
     "data": {
      "image/png": "[encoded data removed]",
      "text/plain": [
       "<matplotlib.figure.Figure at 0x7f5e23758710>"
      ]
     },
     "metadata": {},
     "output_type": "display_data"
    }
   ],
   "source": [
    "z = S1(theta=np.pi/4)\n",
    "traj = z.euler_integration(w, **P)\n",
    "print(\"|z_final| = {:.4f}\".format(np.abs(traj[-1])))\n",
    "z.visualize(traj)"
   ]
  },
  {
   "cell_type": "markdown",
   "metadata": {},
   "source": [
    "The issue with this approach is that Euler's Method as it was implemented is only for Euclidean spaces. Note that the update steps calls for the addition of two group elements, which is not defined in $S^1$ and this scheme will cause the updated group element to lose the group property that $|z|=1$ and thus it will leave the manifold.\n",
    "\n",
    "This is the core motivation for a study of Lie groups. Without the Lie group machinery, our estimation and control algorithms would suffer from numerical instability or costly normalization steps to reproject the updated value onto the manifold."
   ]
  },
  {
   "cell_type": "markdown",
   "metadata": {},
   "source": [
    "#### Runge-Kutta 4 (RK4)\n",
    "Of course, Euler's Method is a first-order, rough approximation of any differential equation -- even in Euclidean space. We can build a much stronger argument for the need of Lie group integrators by investigating the results of integrating the differential equation using the Euclidean RK4 method. The RK4 method is given by\n",
    "\n",
    "\\begin{align}\n",
    "y_{n+1}\t&=\ty_{n}+\\frac{h}{6}\\left(k_{1}+2k_{2}+2k_{3}+k4\\right) \\\\\n",
    "t_{n+1}\t&=\tt_{n}+h\n",
    " \\end{align}\n",
    " \n",
    "where\n",
    " \n",
    "\\begin{align}\n",
    "k_{1} &= f\\left(t_{n},y_{n}\\right) \\\\\n",
    "k_{2} &= f\\left(t_{n}+\\frac{h}{2},y_{n}+\\frac{h}{2}k_{1}\\right) \\\\\n",
    "k_{3} &= f\\left(t_{n}+\\frac{h}{2},y_{n}+\\frac{h}{2}k_{2}\\right) \\\\\n",
    "k_{4} &= f\\left(t_{n}+h,y_{n}+hk_{3}\\right)\n",
    "\\end{align}"
   ]
  },
  {
   "cell_type": "code",
   "execution_count": 8,
   "metadata": {},
   "outputs": [],
   "source": [
    "class S1(S1):\n",
    "    def rk4_integration(self, w, Ts=0.01, secs=5, **kwargs):\n",
    "        # convert seconds to steps\n",
    "        steps = int(secs/Ts)\n",
    "        \n",
    "        # Store trajectory\n",
    "        trajectory = np.zeros((steps+1,), dtype=complex)\n",
    "        trajectory[0] = self.z\n",
    "        \n",
    "        f = lambda i, t, z: 1j*w[i]*z\n",
    "\n",
    "        for i in range(steps):\n",
    "            t = i*Ts\n",
    "            k1 = f(i, t, self.z)\n",
    "            k2 = f(i, t + Ts/2, self.z + Ts/2*k1)\n",
    "            k3 = f(i, t + Ts/2, self.z + Ts/2*k2)\n",
    "            k4 = f(i, t + Ts  , self.z + Ts  *k3)\n",
    "            self.z += (Ts/6)*(k1 + 2*k2 + 2*k3 + k4)\n",
    "            trajectory[i+1] = self.z\n",
    "\n",
    "        return trajectory"
   ]
  },
  {
   "cell_type": "code",
   "execution_count": 9,
   "metadata": {
    "scrolled": false
   },
   "outputs": [
    {
     "name": "stdout",
     "output_type": "stream",
     "text": [
      "|z_final| = 0.9652\n"
     ]
    },
    {
     "data": {
      "image/png": "[encoded data removed]",
      "text/plain": [
       "<matplotlib.figure.Figure at 0x7f5e235631d0>"
      ]
     },
     "metadata": {},
     "output_type": "display_data"
    }
   ],
   "source": [
    "z = S1(theta=np.pi/4)\n",
    "traj = z.rk4_integration(w, **P)\n",
    "print(\"|z_final| = {:.4f}\".format(np.abs(traj[-2])))\n",
    "z.visualize(traj)"
   ]
  },
  {
   "cell_type": "markdown",
   "metadata": {},
   "source": [
    "RK4 numerical integration does much better! But again, we can see that it breaks the constraint that $|z|=1$ and the updated elements eventually start leaving the manifold."
   ]
  },
  {
   "cell_type": "markdown",
   "metadata": {},
   "source": [
    "#### Simple Lie Integrator\n",
    "Instead of using classic numerical techniques to approximate the solution to the $S^1$ kinematic equation, instead we can analytically solve the ODE and then discretize to obtain a digital implementation. This makes us feel better since it is rooted in mathematical theory."
   ]
  },
  {
   "cell_type": "markdown",
   "metadata": {},
   "source": [
    "Noting that the kinematics\n",
    "\n",
    "\\begin{equation}\n",
    "\\dot{z} = f(z) = j \\omega z,\n",
    "\\end{equation}\n",
    "\n",
    "is of the form\n",
    "\n",
    "\\begin{equation}\n",
    "\\frac{dz}{dt} + p(t)z(t) = q(t)\n",
    "\\end{equation}\n",
    "\n",
    "with $p(t)=-j \\omega$ and $q(t) = 0$, we can use the integrating factor  $exp(-\\int_{t_{0}}^{t}j\\theta\\left(\\tau\\right)d\\tau)$ to find a solution that satisfies this differential equation.\n",
    "\n",
    "Making no assumptions about the content of the continuous signal $\\omega(t)$, and using the integrating factor, we can write the kinematics as\n",
    "\n",
    "\\begin{equation}\n",
    "\\left(\\dot{z}-j\\omega(t)z\\right)e^{-\\int_{t_{0}}^{t}j\\omega\\left(\\tau\\right)d\\tau} = 0.\n",
    "\\end{equation}\n",
    "\n",
    "Using the product rule, this becomes\n",
    "\n",
    "\\begin{equation}\n",
    "\\frac{d}{dt}\\left[ze^{-\\int_{t_{0}}^{t}j\\omega\\left(\\tau\\right)d\\tau}\\right]=0.\n",
    "\\end{equation}\n",
    "\n",
    "Taking the integral of both sides with respect to time gives\n",
    "\n",
    "\\begin{equation}\n",
    "\\int_{t_{0}}^{t}\\frac{d}{d\\tau}\\left[ze^{-\\int_{t_{0}}^{\\tau}j\\omega\\left(\\sigma\\right)d\\sigma}\\right]d\\tau=0,\n",
    "\\end{equation}\n",
    "\n",
    "for which we can use the Fundamental Theorem of Calculus to find the solution\n",
    "\n",
    "\\begin{align}\n",
    "z(t)e^{-\\int_{t_{0}}^{t}j\\omega\\left(\\tau\\right)d\\tau}-z(t_{0})e^{-\\int_{t_{0}}^{t_{0}}j\\omega\\left(\\tau\\right)d\\tau}\t&=\t0 \\\\\n",
    "z(t)\t&=\tz(t_{0})e^{\\int_{t_{0}}^{t}j\\omega(\\tau)d\\tau}.\n",
    "\\end{align}"
   ]
  },
  {
   "cell_type": "markdown",
   "metadata": {},
   "source": [
    "##### Digital Implementation: Zero-Order Hold\n",
    "Because the gyro gives discrete samples every $T_s$ seconds, we need to discretize the solution for digital implementation. Let $t=nT_s$, $t_0=(n-1)T_s$ and use the notation $z[n]=z(nT_s)$. By using the concept of ZOH sampling, we assume that the signal is constant during the sample interval with $\\omega[n]$. Therefore, $\\int_{t_{0}}^{t}j\\omega\\left(\\tau\\right)d\\tau=j\\omega[n]T_{s}$ and\n",
    "\n",
    "\\begin{equation}\n",
    "z[n]=z[n-1]e^{j\\omega[n]T_{s}}\n",
    "\\end{equation}"
   ]
  },
  {
   "cell_type": "code",
   "execution_count": 10,
   "metadata": {},
   "outputs": [],
   "source": [
    "class S1(S1):\n",
    "    def lie_integration_zoh(self, w, Ts, secs=0, **kwargs):\n",
    "        # convert seconds to steps\n",
    "        steps = int(secs/Ts)\n",
    "        \n",
    "        # Store trajectory\n",
    "        trajectory = np.zeros((steps+1,), dtype=complex)\n",
    "        trajectory[0] = self.z\n",
    "        \n",
    "        for i in range(steps):\n",
    "            self.z = self.z*np.exp(1j*w[i]*Ts)\n",
    "            trajectory[i+1] = self.z\n",
    "            \n",
    "        return trajectory"
   ]
  },
  {
   "cell_type": "code",
   "execution_count": 11,
   "metadata": {},
   "outputs": [
    {
     "name": "stdout",
     "output_type": "stream",
     "text": [
      "|z_final| = 1.0000\n"
     ]
    },
    {
     "data": {
      "image/png": "[encoded data removed]",
      "text/plain": [
       "<matplotlib.figure.Figure at 0x7f5e2340deb8>"
      ]
     },
     "metadata": {},
     "output_type": "display_data"
    }
   ],
   "source": [
    "z = S1(theta=np.pi/4)\n",
    "traj = z.lie_integration_zoh(w, **P)\n",
    "print(\"|z_final| = {:.4f}\".format(np.abs(traj[-1])))\n",
    "z.visualize(traj)"
   ]
  },
  {
   "cell_type": "markdown",
   "metadata": {},
   "source": [
    "Using the exponential mapping at each update, we see that the updated element stays on the manifold and maintains the geometric constraint $|z|=1$. Nice!"
   ]
  },
  {
   "cell_type": "markdown",
   "metadata": {},
   "source": [
    "##### Digital Implementation: Delayed First-Order Hold\n",
    "To increase our accuracy (especially for slower sampling rates), we assume that the signal is changing linearly between samples and apply a FOH. Note that for this scheme to implemented causally, it introduces a one sample lag."
   ]
  },
  {
   "cell_type": "markdown",
   "metadata": {},
   "source": [
    "## Control\n",
    "\n",
    "Dan\n"
   ]
  },
  {
   "cell_type": "markdown",
   "metadata": {},
   "source": [
    "## Estimation\n",
    "\n",
    "Devon"
   ]
  },
  {
   "cell_type": "code",
   "execution_count": null,
   "metadata": {},
   "outputs": [],
   "source": []
  }
 ],
 "metadata": {
  "kernelspec": {
   "display_name": "Python 3",
   "language": "python",
   "name": "python3"
  },
  "language_info": {
   "codemirror_mode": {
    "name": "ipython",
    "version": 3
   },
   "file_extension": ".py",
   "mimetype": "text/x-python",
   "name": "python",
   "nbconvert_exporter": "python",
   "pygments_lexer": "ipython3",
   "version": "3.6.5"
  }
 },
 "nbformat": 4,
 "nbformat_minor": 2
}
