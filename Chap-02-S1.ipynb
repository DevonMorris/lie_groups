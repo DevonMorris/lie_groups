{
 "cells": [
  {
   "cell_type": "markdown",
   "metadata": {},
   "source": [
    "[Table of Contents](table_of_contents.ipynb)"
   ]
  },
  {
   "cell_type": "markdown",
   "metadata": {},
   "source": [
    "# Chapter 1.  The Unit Circle $S^1$: Kinematics, Control, and Estimation"
   ]
  },
  {
   "cell_type": "markdown",
   "metadata": {},
   "source": [
    "## Definitions and Notation"
   ]
  },
  {
   "cell_type": "markdown",
   "metadata": {},
   "source": [
    "We begin the study of Lie Groups and Lie Algebras by studying differential equations defined on the unit circle in $\\mathbb{R}^2$.  Note that the unit circle in $\\mathbb{R}^2$ is a one dimensional manifold embedded in the two dimensional Euclidean space $\\mathbb{R}^2$. Two spaces are said to be isomorphic if there is a one-to-one mapping between elements in each space.  Note that $\\mathbb{R}^2$ is isomorphic to the complex plane $\\mathbb{C}$ by equating the $x$-axis with the real line and the $y$-axis with the imaginary line.  In the complex plane, the unit circle is the set $S(1) = \\{z\\in\\mathbb{C}: |z|=1\\}$.  Since any complex number $z\\in\\mathbb{C}$ can be written in rectangular form as $z=a+jb$ and in polar form as $z=me^{j\\theta}=m\\cos\\theta +jm\\sin\\theta$, the unit circle can be alternatively represented as $S(1) = \\{e^{j\\theta}\\in\\mathbb{C}: \\theta\\in(-\\pi, pi]\\}$."
   ]
  },
  {
   "cell_type": "markdown",
   "metadata": {},
   "source": [
    "Define the set of 2x2 matrices $\\mathcal{M} = \\left\\{\\begin{pmatrix} a & -b \\\\ b & a\\end{pmatrix}: a,b \\in \\mathbb{R} \\right\\}\\subset \\mathbb{R}^{2\\times 2}$.  It is clear that the complex plane $\\mathbb{C}$ is isomorphic to $\\mathcal{M}$ since for every complex number $z=a+jb$ there is unique element in $\\mathcal{M}$, and visa versa.  It turns out that multiplying complex numbers is equivalent to matrix multiplication over $\\mathcal{M}$. As can be seen from simple algebra:\n",
    "\\begin{align*}\n",
    "(a+jb)(c+jd) &= (ac-bd) + j(bc+ad) \\\\\n",
    "\\begin{pmatrix} a & -b \\\\ b & a \\end{pmatrix} \\begin{pmatrix} c & -d \\\\ d & c \\end{pmatrix} &= \\begin{pmatrix} ac-bd & -(bc+ad) \\\\ (bc+ad) & ac-bd \\end{pmatrix}\n",
    "\\end{align*}\n",
    "\n",
    "In fact, define $I=\\begin{pmatrix} 1 & 0 \\\\ 0 & 1 \\end{pmatrix}\\subset\\mathcal{C}$ and $J=\\begin{pmatrix} 0 & -1 \\\\ 1 & 0 \\end{pmatrix}\\subset\\mathcal{M}$ and note that $I^2=I$, $IJ=JI=J$ and $J^2=-I$.  Therefore $I$ acts like the complex number $1$, and $J$ acts like the complex number $j=\\sqrt{-1}$.  Any element of $\\mathcal{M}$ can be written as $aI+bJ$ in the same way that any element of the complex plane $\\mathbb{C}$ can be written as $a+jb$.\n"
   ]
  },
  {
   "cell_type": "markdown",
   "metadata": {},
   "source": [
    "The unit circle embedded in the complex plane is given by the set $\\{ z\\in\\mathbb{C}: |z|=1\\}$.  Similarly, the unit circle embedded in the set of $2\\times 2$ matrices $\\mathbb{R}^{2\\times 2}$ is given by $\\{G\\in\\mathcal{M}: \\det{G}=1\\}$.  \n",
    "\n",
    "For example, the point $x=(1/\\sqrt{2}, 1/\\sqrt{2})^\\top$ represent a point on the unit circle in $\\mathbb{R}^2$ that is equivalent to the representation $z=e^{j\\frac{\\pi}{4}}$ in $\\mathbb{C}$, that is equivalent to the representation $G=\\begin{pmatrix}\\frac{1}{\\sqrt{2}}& -\\frac{1}{\\sqrt{2}} \\\\ \\frac{1}{\\sqrt{2}} & \\frac{1}{\\sqrt{2}}\\end{pmatrix}$ in $\\mathbb{R}^{2\\times 2}$.\n",
    "\n",
    "Therefore, we can talk of embeddings \n",
    "\\begin{align*}\n",
    "\\pi_1: S^1 &\\rightarrow \\mathbb{R}^2, \\\\\n",
    "\\pi_2: S^1 &\\rightarrow \\mathbb{C}, \\\\\n",
    "\\pi_3: S^1 &\\rightarrow \\mathbb{R}^{2\\times 2}.\n",
    "\\end{align*}"
   ]
  },
  {
   "cell_type": "markdown",
   "metadata": {},
   "source": [
    "The following code establishes a class for $S^1$.  We will use matrices in $\\mathbb{R}^{2\\times 2}$ as the native representation for elements of $S^1$ and provide functions that convert between the representations."
   ]
  },
  {
   "cell_type": "code",
   "execution_count": 54,
   "metadata": {},
   "outputs": [],
   "source": [
    "import numpy as np\n",
    "import random\n",
    "\n",
    "class lie_group_S1:\n",
    "    # this class will be used to define operations on S1\n",
    "    def __init__(self, G=np.eye(2)):\n",
    "        self.mat = G\n",
    "    \n",
    "    # generate a random element in S1\n",
    "    def gen_random_element(self):\n",
    "        th = random.uniform(-np.pi, np.pi)\n",
    "        self.mat = np.array([[np.cos(th), -np.sin(th)], [np.sin(th), np.cos(th)]])\n",
    "    \n",
    "    # functions that convert between representations\n",
    "    def vector(self):\n",
    "        return self.mat[:,0]\n",
    "\n",
    "    def complex(self):\n",
    "        return self.mat[0,0] + self.mat[1,0]*1j   \n",
    "    "
   ]
  },
  {
   "cell_type": "markdown",
   "metadata": {},
   "source": [
    "The following code tests these functions."
   ]
  },
  {
   "cell_type": "code",
   "execution_count": 55,
   "metadata": {},
   "outputs": [
    {
     "name": "stdout",
     "output_type": "stream",
     "text": [
      "G= [[-0.91874211  0.39485812]\n",
      " [-0.39485812 -0.91874211]]\n",
      "x= [-0.91874211 -0.39485812]\n",
      "z= (-0.9187421099232389-0.39485812066335335j)\n"
     ]
    }
   ],
   "source": [
    "G1 = lie_group_S1()\n",
    "G1.gen_random_element()\n",
    "print('G=', G1.mat)\n",
    "x = G1.vector()\n",
    "print('x=', x)\n",
    "z = G1.complex()\n",
    "print('z=', z)"
   ]
  },
  {
   "cell_type": "markdown",
   "metadata": {},
   "source": [
    "In mathematics, a group is defined as a set of objects $\\mathcal{G}$ that contains a unique element $I\\in\\mathcal{G}$ called the identity, and an operation $\\cdot$ such that \n",
    "*  $G_1, G_2 \\in \\mathcal{G}$ implies that $G_1\\cdot G_2 \\in \\mathcal{G}$,\n",
    "*  For every $G\\in\\mathcal{G}$ there exists and element $H\\in\\mathcal{G}$ such that $G\\cdot H = H\\cdot G = I$.  $H$ is called the inverse of $G$ and will be denoted as $G^{-1}$.\n",
    "\n",
    "The first item implies that $\\mathcal{G}$ is closed under the $\\cdot$ operation.  The second item implies that every element in $\\mathcal{G}$ has an inverse.\n",
    "\n",
    "For $S^1$, the $\\cdot$ operator is defined differently depending on the space into which it is embedded.  For example, in $\\mathbb{C}$, let $z_1=e^{j\\theta_1}$ and $z_2=e^{j\\theta^2}$, then clearly \n",
    "\\begin{equation}\n",
    "z = z_1 z_2 = e^{j\\theta_1} e^{j\\theta_2} = e^{j(\\theta_1+\\theta)}\n",
    "\\end{equation}\n",
    "is an element of $S^1$, and if $z=1+j0$ is the identity, then the inverse operator is simply the complex conjugate since\n",
    "\\begin{equation}\n",
    "z\\bar{z} = e^{j\\theta} e^{-j\\theta} = e^{j(\\theta-\\theta)} = e^{j0} = 1.\n",
    "\\end{equation}\n",
    "\n",
    "On the other hand, if $S^1$ is embedded in $\\mathbb{R}^{2\\times 2}$, and the identity is defined as the identity matrix, then the $\\cdot$ operator is simply matrix multiplication since\n",
    "\\begin{align*}\n",
    "G_1 G_2 &= \\begin{pmatrix} \\cos(\\theta_1) & -\\sin(\\theta_1) \\\\ \\sin(\\theta_1) & \\cos(\\theta_1) \\end{pmatrix}\n",
    "\\begin{pmatrix} \\cos(\\theta_2) & -\\sin(\\theta_2) \\\\ \\sin(\\theta_2) & \\cos(\\theta_2) \\end{pmatrix} \\\\\n",
    "&= \\begin{pmatrix} \\cos(\\theta_1)\\cos(\\theta_1)-\\sin(\\theta_1)\\sin(\\theta_2) & -\\cos(\\theta_1)\\sin(\\theta_2)-\\sin(\\theta_1)\\cos(\\theta_2) \\\\ \\cos(\\theta_1)\\sin(\\theta_2)+\\sin(\\theta_1)\\cos(\\theta_2) & \\cos(\\theta_1)\\cos(\\theta_1)-\\sin(\\theta_1)\\sin(\\theta_2) \\end{pmatrix} \\\\\n",
    "&= \\begin{pmatrix} \\cos(\\theta_1+\\theta_2) & -\\sin(\\theta_1+\\theta_2) \\\\ \\sin(\\theta_1+\\theta_2) & \\cos(\\theta_1+\\theta_2) \\end{pmatrix}\n",
    "\\end{align*}\n",
    "and the inverse of $G\\in\\mathcal{G}$ is given by the matrix inverse since $GG^{-1}=I$.  \n",
    "\n",
    "It should be clear that if $S^1$ is embedded in $\\mathbb{R}^2$ the $\\cdot$ and inverse operators are much more complex.  Since operations on the group $S^1$ can be carried out with matrix operations, the most convenient representation will be in $\\mathbb{R}^2$.   (Actually, $\\mathbb{C}$ is convenient for $S^1$ but does not extend to other groups, whereas matrix operations will extend to other groups useful in robotics.)"
   ]
  },
  {
   "cell_type": "markdown",
   "metadata": {},
   "source": [
    "We can expand the python class to include an identity, the dot and the inverse operator."
   ]
  },
  {
   "cell_type": "code",
   "execution_count": 59,
   "metadata": {},
   "outputs": [],
   "source": [
    "class lie_group_S1(lie_group_S1):\n",
    "    \n",
    "    # compose (multiply) two elements in S1\n",
    "    def dot(self, G1):\n",
    "        return np.dot(self.mat, G1)\n",
    "    \n",
    "    # functions that convert between representations\n",
    "    def identity():\n",
    "        return np.eye(2)\n",
    "\n",
    "    def inverse(self):\n",
    "        return np.linalg.inv(self.mat)  "
   ]
  },
  {
   "cell_type": "markdown",
   "metadata": {},
   "source": [
    "The following lines test the code."
   ]
  },
  {
   "cell_type": "code",
   "execution_count": 58,
   "metadata": {},
   "outputs": [
    {
     "name": "stdout",
     "output_type": "stream",
     "text": [
      "G= [[-0.71145516  0.70273149]\n",
      " [-0.70273149 -0.71145516]]\n",
      "G^{-1}= [[-0.71145516 -0.70273149]\n",
      " [ 0.70273149 -0.71145516]]\n",
      "G*G1= [[ 0.57432502  0.81862737]\n",
      " [-0.81862737  0.57432502]]\n"
     ]
    }
   ],
   "source": [
    "G = lie_group_S1()\n",
    "G.gen_random_element()\n",
    "print('G=', G.mat)\n",
    "print('G^{-1}=', G.inverse())\n",
    "G1 = lie_group_S1()\n",
    "G1.gen_random_element()\n",
    "print('G*G1=', G.dot(G1.mat))"
   ]
  },
  {
   "cell_type": "code",
   "execution_count": null,
   "metadata": {},
   "outputs": [],
   "source": []
  },
  {
   "cell_type": "markdown",
   "metadata": {},
   "source": [
    "## Kinematics"
   ]
  },
  {
   "cell_type": "markdown",
   "metadata": {},
   "source": [
    "## Differential Equation Solvers"
   ]
  },
  {
   "cell_type": "markdown",
   "metadata": {},
   "source": [
    "## Control"
   ]
  },
  {
   "cell_type": "markdown",
   "metadata": {},
   "source": [
    "## Estimation"
   ]
  },
  {
   "cell_type": "code",
   "execution_count": null,
   "metadata": {},
   "outputs": [],
   "source": []
  }
 ],
 "metadata": {
  "kernelspec": {
   "display_name": "Python 3",
   "language": "python",
   "name": "python3"
  },
  "language_info": {
   "codemirror_mode": {
    "name": "ipython",
    "version": 3
   },
   "file_extension": ".py",
   "mimetype": "text/x-python",
   "name": "python",
   "nbconvert_exporter": "python",
   "pygments_lexer": "ipython3",
   "version": "3.6.3"
  }
 },
 "nbformat": 4,
 "nbformat_minor": 2
}
