{
 "cells": [
  {
   "cell_type": "markdown",
   "metadata": {},
   "source": [
    "# Appendix A: Lie Group Integrators"
   ]
  },
  {
   "cell_type": "markdown",
   "metadata": {},
   "source": [
    "In any implementation of time-varying systems, thought must be given to numerical integration methods for finding approximate solutions to differential equations. Typical algorithms include Euler's Method and Runge-Kutta Methods (i.e., RK4). However, these classical algorithms are developed for use on flat Euclidean spaces and numerical instability issues can arise when applied to curvy manifolds such as the Lie groups relevant to robotics."
   ]
  },
  {
   "cell_type": "markdown",
   "metadata": {},
   "source": [
    "## Example in $S^1$\n",
    "Consider the following motivating example. A pencil is spinning on a flat table. It's configuration space is $S^1$, which represents the space of possible $1$-dimensional orientations. The pencil's angular velocity is given by $\\dot{\\theta} = \\omega(t)$, which we can measure using a nanometer-sized gyro with a sampling rate of $T_s=0.01$ seconds. Our objective is to use these angular velocity measurements to perform dead-reckoning and estimate the current angle of the pencil."
   ]
  },
  {
   "cell_type": "markdown",
   "metadata": {},
   "source": [
    "Let's first generate samples from the gyro on our spinning pencil. We assume that the pencil starts with some initial velocity that slowly decays over time."
   ]
  },
  {
   "cell_type": "code",
   "execution_count": 30,
   "metadata": {},
   "outputs": [
    {
     "data": {
      "image/png": "[encoded data removed]",
      "text/plain": [
       "<matplotlib.figure.Figure at 0x7f9d18721668>"
      ]
     },
     "metadata": {},
     "output_type": "display_data"
    }
   ],
   "source": [
    "%matplotlib inline\n",
    "import numpy as np\n",
    "import matplotlib.pyplot as plt\n",
    "\n",
    "def generate_gyro_samples(w0=50, Ts=0.01, secs=5, **kwargs):\n",
    "    # number of samples\n",
    "    N = int(secs/Ts)\n",
    "    \n",
    "    # sample time vector\n",
    "    n = np.arange(N)\n",
    "\n",
    "    # generate the slowly-decaying signal\n",
    "    alpha = kwargs['alpha']\n",
    "    w = w0*np.exp(-alpha*(n*Ts))\n",
    "    \n",
    "    # Make some noise!\n",
    "    sigma = kwargs['sigma']\n",
    "    eta = sigma*np.random.randn(N)\n",
    "    \n",
    "    return w + eta\n",
    "\n",
    "# Simulation parameters\n",
    "P = {\n",
    "    # initial angular velocity\n",
    "    'w0': 50,\n",
    "    \n",
    "    # sample period\n",
    "    'Ts': 0.01,\n",
    "    \n",
    "    # duration of simulation\n",
    "    'secs': 30,\n",
    "    \n",
    "    # exponential decay parameter\n",
    "    'alpha': 0.05,\n",
    "    \n",
    "    # std dev of AWGN\n",
    "    'sigma': 0.25\n",
    "}\n",
    "\n",
    "# Generate samples of gyro measurements\n",
    "w = generate_gyro_samples(**P)\n",
    "fig = plt.figure()\n",
    "plt.plot(w)\n",
    "plt.title('Gyro Samples over time')\n",
    "plt.grid(); plt.xlabel('Sample'); plt.ylabel('Angular Velocity [rad/s]')\n",
    "plt.show()"
   ]
  },
  {
   "cell_type": "markdown",
   "metadata": {},
   "source": [
    "## Group Representation Class\n",
    "To represent the orientation, which is an element of $S^1$, the following Python class is used. Internally, we use the uint-length complex number representation of group elements."
   ]
  },
  {
   "cell_type": "code",
   "execution_count": 2,
   "metadata": {},
   "outputs": [],
   "source": [
    "%matplotlib inline\n",
    "import numpy as np\n",
    "import matplotlib.pyplot as plt\n",
    "\n",
    "class S1:\n",
    "    def __init__(self, theta=0):\n",
    "        # The representation of the group element\n",
    "        self.z = self.from_algebra(theta)\n",
    "        \n",
    "        # Also store the original element of the algebra\n",
    "        self.theta = theta\n",
    "    \n",
    "    def from_algebra(self, theta):\n",
    "        return np.exp(1j*theta)\n",
    "    \n",
    "    def to_algebra(self, z):\n",
    "        return np.imag(np.log(z))\n",
    "    \n",
    "    def visualize(self, trajectory=np.array([])):\n",
    "        \"\"\"Visualize the group element on its manifold\n",
    "        :param trajectory: optional list of group elements to plot\n",
    "        \"\"\"\n",
    "        fig = plt.figure(figsize=(7,7))\n",
    "\n",
    "        n = np.linspace(0, 2*np.pi, 100)\n",
    "        plt.plot(np.cos(n), np.sin(n))\n",
    "        plt.axis('square'), plt.axis([-2, 2, -2, 2]), plt.axis('off')\n",
    "        \n",
    "        if not trajectory.size:\n",
    "            trajectory = np.array([self.z])\n",
    "\n",
    "        x, y = np.real(trajectory), np.imag(trajectory)\n",
    "        plt.scatter(x, y, s=50, c='r')\n",
    "        \n",
    "        plt.show()"
   ]
  },
  {
   "cell_type": "markdown",
   "metadata": {},
   "source": [
    "Using this class, we can visualize the current orientation of the pencil on the manifold $S^1$."
   ]
  },
  {
   "cell_type": "code",
   "execution_count": 3,
   "metadata": {},
   "outputs": [
    {
     "data": {
      "image/png": "[encoded data removed]",
      "text/plain": [
       "<matplotlib.figure.Figure at 0x7f9d1933fba8>"
      ]
     },
     "metadata": {},
     "output_type": "display_data"
    }
   ],
   "source": [
    "z = S1(theta=np.pi/4)\n",
    "z.visualize()"
   ]
  },
  {
   "cell_type": "markdown",
   "metadata": {},
   "source": [
    "## Kinematics\n",
    "The kinematics that describe the evolution of the pencil's orientation on the manifold is given by the first-order differential equation\n",
    "\n",
    "\\begin{equation}\n",
    "\\dot{z} = f(z) = j \\omega z,\n",
    "\\end{equation}\n",
    "\n",
    "where $\\theta \\in \\mathfrak{g} = \\mathbb{R}$, $\\dot{\\theta} = \\omega$ and $z \\in \\mathcal{G} = S^1$."
   ]
  },
  {
   "cell_type": "markdown",
   "metadata": {},
   "source": [
    "## Euler's Method\n",
    "We would like to use a computer to approximate this ODE. A common numerical method for solving first-order ODEs is Euler's Method, an explicit algorithm which uses the limit definition of a derivative to find the update rule\n",
    "\n",
    "\\begin{align}\n",
    "\\frac{z(t+h)-z(t)}{h} &= j\\omega z(t)\\\\\n",
    "z(t+T_s) &= z(t)+h\\omega z(t).\n",
    "\\end{align}\n",
    "\n",
    "Assuming $\\omega$ is constant in each sample interval and using $h=T_s$ (since that's when we have data to integrate), discretizing yields the digital algorithm\n",
    "\n",
    "\\begin{align}\n",
    "z[n+1] &= z[n]+jT_s\\omega[n] z[n]\n",
    "\\end{align}"
   ]
  },
  {
   "cell_type": "code",
   "execution_count": 4,
   "metadata": {},
   "outputs": [],
   "source": [
    "class S1(S1):\n",
    "    def euler_integration(self, w, Ts=0.01, secs=5, **kwargs):\n",
    "        # convert seconds to steps\n",
    "        steps = int(secs/Ts)\n",
    "        \n",
    "        # Store trajectory\n",
    "        trajectory = np.zeros((steps+1,), dtype=complex)\n",
    "        trajectory[0] = self.z\n",
    "\n",
    "        for i in range(steps):\n",
    "            self.z += Ts*( 1j*w[i]*self.z )\n",
    "            trajectory[i+1] = self.z\n",
    "            \n",
    "        return trajectory"
   ]
  },
  {
   "cell_type": "code",
   "execution_count": 5,
   "metadata": {
    "scrolled": false
   },
   "outputs": [
    {
     "name": "stdout",
     "output_type": "stream",
     "text": [
      "|z_final| = 3741967139783255876579586040129593354617930907648.0000\n"
     ]
    },
    {
     "data": {
      "image/png": "[encoded data removed]",
      "text/plain": [
       "<matplotlib.figure.Figure at 0x7f9d192d07b8>"
      ]
     },
     "metadata": {},
     "output_type": "display_data"
    }
   ],
   "source": [
    "z = S1(theta=np.pi/4)\n",
    "traj = z.euler_integration(w, **P)\n",
    "print(\"|z_final| = {:.4f}\".format(np.abs(traj[-1])))\n",
    "z.visualize(traj)"
   ]
  },
  {
   "cell_type": "markdown",
   "metadata": {},
   "source": [
    "The issue with this approach is that Euler's Method as it was implemented is only for Euclidean spaces. Note that the update steps calls for the addition of two group elements, which is not defined in $S^1$ and this scheme will cause the updated group element to lose the group property that $|z|=1$ and thus it will leave the manifold.\n",
    "\n",
    "This is the core motivation for a study of Lie groups. Without the Lie group machinery, our estimation and control algorithms would suffer from numerical instability or costly normalization steps to reproject the updated value onto the manifold."
   ]
  },
  {
   "cell_type": "markdown",
   "metadata": {},
   "source": [
    "## Runge-Kutta 4 (RK4)\n",
    "Of course, Euler's Method is a first-order, rough approximation of any differential equation -- even in Euclidean space. We can build a much stronger argument for the need of Lie group integrators by investigating the results of integrating the differential equation using the Euclidean RK4 method. The RK4 method is given by\n",
    "\n",
    "\\begin{align}\n",
    "y_{n+1}\t&=\ty_{n}+\\frac{h}{6}\\left(k_{1}+2k_{2}+2k_{3}+k4\\right) \\\\\n",
    "t_{n+1}\t&=\tt_{n}+h\n",
    " \\end{align}\n",
    " \n",
    "where\n",
    " \n",
    "\\begin{align}\n",
    "k_{1} &= f\\left(t_{n},y_{n}\\right) \\\\\n",
    "k_{2} &= f\\left(t_{n}+\\frac{h}{2},y_{n}+\\frac{h}{2}k_{1}\\right) \\\\\n",
    "k_{3} &= f\\left(t_{n}+\\frac{h}{2},y_{n}+\\frac{h}{2}k_{2}\\right) \\\\\n",
    "k_{4} &= f\\left(t_{n}+h,y_{n}+hk_{3}\\right)\n",
    "\\end{align}"
   ]
  },
  {
   "cell_type": "code",
   "execution_count": 26,
   "metadata": {},
   "outputs": [],
   "source": [
    "class S1(S1):\n",
    "    def rk4_integration(self, w, Ts=0.01, secs=5, **kwargs):\n",
    "        # convert seconds to steps\n",
    "        steps = int(secs/Ts)\n",
    "        \n",
    "        # Store trajectory\n",
    "        trajectory = np.zeros((steps+1,), dtype=complex)\n",
    "        trajectory[0] = self.z\n",
    "        \n",
    "        f = lambda i, t, z: 1j*w[i]*z\n",
    "\n",
    "        for i in range(steps):\n",
    "            t = i*Ts\n",
    "            k1 = f(i, t, self.z)\n",
    "            k2 = f(i, t + Ts/2, self.z + Ts/2*k1)\n",
    "            k3 = f(i, t + Ts/2, self.z + Ts/2*k2)\n",
    "            k4 = f(i, t + Ts  , self.z + Ts  *k3)\n",
    "            self.z += (Ts/6)*(k1 + 2*k2 + 2*k3 + k4)\n",
    "            trajectory[i+1] = self.z\n",
    "\n",
    "        return trajectory"
   ]
  },
  {
   "cell_type": "code",
   "execution_count": 27,
   "metadata": {
    "scrolled": false
   },
   "outputs": [
    {
     "name": "stdout",
     "output_type": "stream",
     "text": [
      "|z_final| = 0.9652\n"
     ]
    },
    {
     "data": {
      "image/png": "[encoded data removed]",
      "text/plain": [
       "<matplotlib.figure.Figure at 0x7f9d18890e80>"
      ]
     },
     "metadata": {},
     "output_type": "display_data"
    }
   ],
   "source": [
    "z = S1(theta=np.pi/4)\n",
    "traj = z.rk4_integration(w, **P)\n",
    "print(\"|z_final| = {:.4f}\".format(np.abs(traj[-2])))\n",
    "z.visualize(traj)"
   ]
  },
  {
   "cell_type": "markdown",
   "metadata": {},
   "source": [
    "RK4 numerical integration does much better! But again, we can see that it breaks the constraint that $|z|=1$ and the updated elements eventually start leaving the manifold."
   ]
  },
  {
   "cell_type": "markdown",
   "metadata": {},
   "source": [
    "## Simple Lie Integrator\n",
    "Instead of using classic numerical techniques to approximate the solution to the $S^1$ kinematic equation, instead we can analytically solve the ODE and then discretize to obtain a digital implementation. This makes us feel better since it is rooted in mathematical theory."
   ]
  },
  {
   "cell_type": "markdown",
   "metadata": {},
   "source": [
    "Noting that the kinematics\n",
    "\n",
    "\\begin{equation}\n",
    "\\dot{z} = f(z) = j \\omega z,\n",
    "\\end{equation}\n",
    "\n",
    "is of the form\n",
    "\n",
    "\\begin{equation}\n",
    "\\frac{dz}{dt} + p(t)z(t) = q(t)\n",
    "\\end{equation}\n",
    "\n",
    "with $p(t)=-j \\omega$ and $q(t) = 0$, we can use the integrating factor  $exp(-\\int_{t_{0}}^{t}j\\theta\\left(\\tau\\right)d\\tau)$ to find a solution that satisfies this differential equation.\n",
    "\n",
    "Making no assumptions about the content of the continuous signal $\\omega(t)$, and using the integrating factor, we can write the kinematics as\n",
    "\n",
    "\\begin{equation}\n",
    "\\left(\\dot{z}-j\\omega(t)z\\right)e^{-\\int_{t_{0}}^{t}j\\omega\\left(\\tau\\right)d\\tau} = 0.\n",
    "\\end{equation}\n",
    "\n",
    "Using the product rule, this becomes\n",
    "\n",
    "\\begin{equation}\n",
    "\\frac{d}{dt}\\left[ze^{-\\int_{t_{0}}^{t}j\\omega\\left(\\tau\\right)d\\tau}\\right]=0.\n",
    "\\end{equation}\n",
    "\n",
    "Taking the integral of both sides with respect to time gives\n",
    "\n",
    "\\begin{equation}\n",
    "\\int_{t_{0}}^{t}\\frac{d}{d\\tau}\\left[ze^{-\\int_{t_{0}}^{\\tau}j\\omega\\left(\\sigma\\right)d\\sigma}\\right]d\\tau=0,\n",
    "\\end{equation}\n",
    "\n",
    "for which we can use the Fundamental Theorem of Calculus to find the solution\n",
    "\n",
    "\\begin{align}\n",
    "z(t)e^{-\\int_{t_{0}}^{t}j\\omega\\left(\\tau\\right)d\\tau}-z(t_{0})e^{-\\int_{t_{0}}^{t_{0}}j\\omega\\left(\\tau\\right)d\\tau}\t&=\t0 \\\\\n",
    "z(t)\t&=\tz(t_{0})e^{\\int_{t_{0}}^{t}j\\omega(\\tau)d\\tau}.\n",
    "\\end{align}"
   ]
  },
  {
   "cell_type": "markdown",
   "metadata": {},
   "source": [
    "### Digital Implementation: Zero-Order Hold\n",
    "Because the gyro gives discrete samples every $T_s$ seconds, we need to discretize the solution for digital implementation. Let $t=nT_s$, $t_0=(n-1)T_s$ and use the notation $z[n]=z(nT_s)$. By using the concept of ZOH sampling, we assume that the signal is constant during the sample interval with $\\omega[n]$. Therefore, $\\int_{t_{0}}^{t}j\\omega\\left(\\tau\\right)d\\tau=j\\omega[n]T_{s}$ and\n",
    "\n",
    "\\begin{equation}\n",
    "z[n]=z[n-1]e^{j\\omega[n]T_{s}}\n",
    "\\end{equation}"
   ]
  },
  {
   "cell_type": "code",
   "execution_count": 8,
   "metadata": {},
   "outputs": [],
   "source": [
    "class S1(S1):\n",
    "    def lie_integration_zoh(self, w, Ts, secs=0, **kwargs):\n",
    "        # convert seconds to steps\n",
    "        steps = int(secs/Ts)\n",
    "        \n",
    "        # Store trajectory\n",
    "        trajectory = np.zeros((steps+1,), dtype=complex)\n",
    "        trajectory[0] = self.z\n",
    "        \n",
    "        for i in range(steps):\n",
    "            self.z = self.z*np.exp(1j*w[i]*Ts)\n",
    "            trajectory[i+1] = self.z\n",
    "            \n",
    "        return trajectory"
   ]
  },
  {
   "cell_type": "code",
   "execution_count": 9,
   "metadata": {},
   "outputs": [
    {
     "name": "stdout",
     "output_type": "stream",
     "text": [
      "|z_final| = 1.0000\n"
     ]
    },
    {
     "data": {
      "image/png": "[encoded data removed]",
      "text/plain": [
       "<matplotlib.figure.Figure at 0x7f9d192c76a0>"
      ]
     },
     "metadata": {},
     "output_type": "display_data"
    }
   ],
   "source": [
    "z = S1(theta=np.pi/4)\n",
    "traj = z.lie_integration_zoh(w, **P)\n",
    "print(\"|z_final| = {:.4f}\".format(np.abs(traj[-1])))\n",
    "z.visualize(traj)"
   ]
  },
  {
   "cell_type": "markdown",
   "metadata": {},
   "source": [
    "Using the exponential mapping at each update, we see that the updated element stays on the manifold and maintains the geometric constraint $|z|=1$. Nice!"
   ]
  },
  {
   "cell_type": "markdown",
   "metadata": {},
   "source": [
    "### Digital Implementation: Delayed First-Order Hold\n",
    "To increase our accuracy (especially for slower sampling rates), we assume that the signal is changing linearly between samples and apply a FOH. Note that for this scheme to implemented causally, it introduces a one sample lag."
   ]
  }
 ],
 "metadata": {
  "kernelspec": {
   "display_name": "Python 2",
   "language": "python",
   "name": "python2"
  },
  "language_info": {
   "codemirror_mode": {
    "name": "ipython",
    "version": 3
   },
   "file_extension": ".py",
   "mimetype": "text/x-python",
   "name": "python",
   "nbconvert_exporter": "python",
   "pygments_lexer": "ipython3",
   "version": "3.5.2"
  }
 },
 "nbformat": 4,
 "nbformat_minor": 2
}
