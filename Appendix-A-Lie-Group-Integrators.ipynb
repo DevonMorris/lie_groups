{
 "cells": [
  {
   "cell_type": "markdown",
   "metadata": {},
   "source": [
    "# Appendix A: Lie Group Integrators"
   ]
  },
  {
   "cell_type": "markdown",
   "metadata": {},
   "source": [
    "In any implementation of time-varying systems, thought must be given to numerical integration methods for finding approximate solutions to differential equations. Typical algorithms include Euler's Method and Runge-Kutta Methods (i.e., RK4). However, these classical algorithms are developed for use on flat Euclidean spaces and numerical instability issues can arise when applied to curvy manifolds such as the Lie groups relevant to robotics."
   ]
  },
  {
   "cell_type": "markdown",
   "metadata": {},
   "source": [
    "Consider the following motivating example in $S^1$\n"
   ]
  },
  {
   "cell_type": "code",
   "execution_count": 1,
   "metadata": {},
   "outputs": [],
   "source": [
    "%matplotlib inline\n",
    "import numpy as np\n",
    "import matplotlib.pyplot as plt\n",
    "\n",
    "class S1:\n",
    "    def __init__(self, theta=0):\n",
    "        # The representation of the group element\n",
    "        self.g = self.from_algebra(theta)\n",
    "        \n",
    "        # Also store the original element of the algebra\n",
    "        self.theta = theta\n",
    "    \n",
    "    def from_algebra(self, theta):\n",
    "        return np.exp(1j*theta)\n",
    "    \n",
    "    def to_algebra(self, g):\n",
    "        return np.imag(np.log(g))\n",
    "    \n",
    "    def as_matrix(self):\n",
    "        return self.R\n",
    "    \n",
    "    def as_vector(self):\n",
    "        return self.R[:,0]\n",
    "    \n",
    "    def as_complex(self):\n",
    "        return self.mat[0,0] + self.mat[1,0]*1j\n",
    "    \n",
    "    def visualize(self, trajectory=np.array([])):\n",
    "        \"\"\"Visualize the group element on its manifold\n",
    "        :param trajectory: optional list of group elements to plot\n",
    "        \"\"\"\n",
    "        fig = plt.figure(figsize=(7,7))\n",
    "\n",
    "        n = np.linspace(0, 2*np.pi, 100)\n",
    "        plt.plot(np.cos(n), np.sin(n))\n",
    "        plt.axis('square'), plt.axis([-2, 2, -2, 2]), plt.axis('off')\n",
    "        # frame1 = plt.gca()\n",
    "        # frame1.axes.get_xaxis().set_visible(False)\n",
    "        # frame1.axes.get_yaxis().set_visible(False)\n",
    "        \n",
    "        if not trajectory.size:\n",
    "            trajectory = np.array([self.g])\n",
    "\n",
    "        x, y = np.real(trajectory), np.imag(trajectory)\n",
    "        plt.scatter(x, y, s=50, c='r')\n",
    "        \n",
    "        plt.show()"
   ]
  },
  {
   "cell_type": "code",
   "execution_count": 2,
   "metadata": {},
   "outputs": [
    {
     "data": {
      "image/png": "[encoded data removed]",
      "text/plain": [
       "<matplotlib.figure.Figure at 0x7ff3842f9198>"
      ]
     },
     "metadata": {},
     "output_type": "display_data"
    }
   ],
   "source": [
    "z = S1(theta=np.pi/4)\n",
    "z.visualize()"
   ]
  },
  {
   "cell_type": "code",
   "execution_count": 3,
   "metadata": {},
   "outputs": [],
   "source": [
    "class S1(S1):\n",
    "    def euler_integration(self, w, Ts, secs=0):\n",
    "        # convert seconds to steps\n",
    "        steps = int(secs/Ts)\n",
    "        \n",
    "        # Store trajectory\n",
    "        trajectory = np.zeros((steps+1,), dtype=complex)\n",
    "        trajectory[0] = self.g\n",
    "        \n",
    "        f = lambda g: 1j*w*g\n",
    "        \n",
    "        for i in range(steps):\n",
    "            self.g += Ts*f(self.g)\n",
    "            trajectory[i+1] = self.g\n",
    "            \n",
    "        return trajectory"
   ]
  },
  {
   "cell_type": "code",
   "execution_count": 30,
   "metadata": {
    "scrolled": false
   },
   "outputs": [
    {
     "name": "stdout",
     "output_type": "stream",
     "text": [
      "|z_final| = 1.0253\n"
     ]
    },
    {
     "data": {
      "image/png": "[encoded data removed]",
      "text/plain": [
       "<matplotlib.figure.Figure at 0x7ff346b6bd68>"
      ]
     },
     "metadata": {},
     "output_type": "display_data"
    }
   ],
   "source": [
    "z = S1(theta=np.pi/4)\n",
    "traj = z.euler_integration(1, 0.01, secs=5)\n",
    "print(\"|z_final| = {:.4f}\".format(np.abs(traj[-1])))\n",
    "z.visualize(traj)"
   ]
  },
  {
   "cell_type": "code",
   "execution_count": 7,
   "metadata": {},
   "outputs": [],
   "source": [
    "class S1(S1):\n",
    "    def rk4_integration(self, w, Ts, secs=0):\n",
    "        # convert seconds to steps\n",
    "        steps = int(secs/Ts)\n",
    "        \n",
    "        # Store trajectory\n",
    "        trajectory = np.zeros((steps+1,), dtype=complex)\n",
    "        trajectory[0] = self.g\n",
    "        \n",
    "        f = lambda t, g: 1j*w*g\n",
    "        \n",
    "        for i in range(steps):\n",
    "            t = i*Ts\n",
    "            k1 = f(t, self.g)\n",
    "            k2 = f(t + Ts/2, self.g + Ts/2*k1)\n",
    "            k3 = f(t + Ts/2, self.g + Ts/2*k2)\n",
    "            k4 = f(t + Ts  , self.g + Ts  *k3)\n",
    "            self.g += (Ts/6)*(k1 + 2*k2 + 2*k3 + k4)\n",
    "            trajectory[i+1] = self.g\n",
    "            \n",
    "        return trajectory"
   ]
  },
  {
   "cell_type": "code",
   "execution_count": 39,
   "metadata": {},
   "outputs": [
    {
     "name": "stdout",
     "output_type": "stream",
     "text": [
      "|z_final| = 0.5322\n"
     ]
    },
    {
     "data": {
      "image/png": "[encoded data removed]",
      "text/plain": [
       "<matplotlib.figure.Figure at 0x7ff3475ad160>"
      ]
     },
     "metadata": {},
     "output_type": "display_data"
    }
   ],
   "source": [
    "z = S1(theta=np.pi/4)\n",
    "traj = z.rk4_integration(50, 0.01, secs=60)\n",
    "print(\"|z_final| = {:.4f}\".format(np.abs(traj[-1])))\n",
    "z.visualize(traj)"
   ]
  },
  {
   "cell_type": "code",
   "execution_count": null,
   "metadata": {},
   "outputs": [],
   "source": [
    "class S1(S1):\n",
    "    def lie_integration(self, w, Ts, secs=0):\n",
    "        # convert seconds to steps\n",
    "        steps = int(secs/Ts)\n",
    "        \n",
    "        # Store trajectory\n",
    "        trajectory = np.zeros((steps+1,), dtype=complex)\n",
    "        trajectory[0] = self.g\n",
    "        \n",
    "        f = lambda t, g: 1j*w*g\n",
    "        \n",
    "        for i in range(steps):\n",
    "            t = i*Ts\n",
    "            k1 = f(t, self.g)\n",
    "            k2 = f(t + Ts/2, self.g + Ts/2*k1)\n",
    "            k3 = f(t + Ts/2, self.g + Ts/2*k2)\n",
    "            k4 = f(t + Ts  , self.g + Ts  *k3)\n",
    "            self.g += (Ts/6)*(k1 + 2*k2 + 2*k3 + k4)\n",
    "            trajectory[i+1] = self.g\n",
    "            \n",
    "        return trajectory"
   ]
  }
 ],
 "metadata": {
  "kernelspec": {
   "display_name": "Python 3",
   "language": "python",
   "name": "python3"
  },
  "language_info": {
   "codemirror_mode": {
    "name": "ipython",
    "version": 3
   },
   "file_extension": ".py",
   "mimetype": "text/x-python",
   "name": "python",
   "nbconvert_exporter": "python",
   "pygments_lexer": "ipython3",
   "version": "3.5.2"
  }
 },
 "nbformat": 4,
 "nbformat_minor": 2
}
